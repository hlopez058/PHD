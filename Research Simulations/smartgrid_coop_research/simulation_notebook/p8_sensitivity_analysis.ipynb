{
 "metadata": {
  "language_info": {
   "codemirror_mode": {
    "name": "ipython",
    "version": 3
   },
   "file_extension": ".py",
   "mimetype": "text/x-python",
   "name": "python",
   "nbconvert_exporter": "python",
   "pygments_lexer": "ipython3",
   "version": "3.6.4"
  },
  "orig_nbformat": 2,
  "kernelspec": {
   "name": "python3",
   "display_name": "Python 3.6.4 64-bit (conda)",
   "metadata": {
    "interpreter": {
     "hash": "398dc28c06ad810e77de546bbdfa897a6ee0b83e59a5207339dda01a7843e01d"
    }
   }
  }
 },
 "nbformat": 4,
 "nbformat_minor": 2,
 "cells": [
  {
   "source": [
    "# Sensitivity Analysis of the NRG-X-Change Prosumer Payment Function\n",
    "Hector Lopez 2021 \n",
    "Florida Atlantic University\n",
    "\n",
    "## Background\n",
    "The NRG-X-Change as described by the authors performs a dynamic payment to prosumers that are capable of meeting the demand of the micro-grid. The micro-grid is made of prosumers and consumers. \n",
    "\n",
    "\"In  this  paper  we  propose  NRG-X-Change - a novel mechanism for trading of locally produced re-newable energy that does not rely on an energy market or matching of orders ahead of time. In our model locally produced energy is continuously fed into the grid and payment is received based on actual usage,rather than predicted, as consumption is measured bythe DSO (Distribution Service Operator) and billed in near real-time.\" [[1]]\n",
    "\n",
    "As the load demand spikes the pricing for net generation also spikes to meet the demand. When there is too much generation on the grid the pricing drops encouraging prosumers to generate less and consumer to consume more. \n",
    "\n",
    "The payout function is defined as $g(x,t_p,t_c)$ , where $x$ is the prosumer generation, $t_{p}$ is the total production and $t_{p}$ is the total consumption. The payout function utilizes a normalization component in the denominator to account for over or under generation distributing the payout along the curve, as described in [[1]]. The payment is at its highest when generation meets the total demand and at its lowest as generation starts to saturate the market because of low demand. \n",
    "\n",
    "$$ g(x,t_p,t_c) = \\frac{​​x^n* q_{t_p=t_c}​​}{e^{\\frac{(t_p - t_c)^2}{a}}} $$\n",
    "\n",
    "Where $x$ is the prosumer generation, $t_{p}$ is the total production and $t_{p}$ is the total consumption. The prosumer generation is multipled by the maximum price $q$ where the price is the payment when the total production is equal to the total consumption; ideal state. The $n$ is a design value that would exponentially change the weight of the prosumer contribution for generation (This exponential design variable is analyzed further when considering groupings of prosumers in a coalitional game to maximize economic payouts). The final parameter in the equation is also a design parameter $a$ that can adjust the scale of $g(.)$'s output. \n",
    "\n",
    "The porportionality of the output of $g(.)$ with respect to the $a$ parameter is considered in the following sensitivity analysis. The optimal value of $a$ would need to be adjusted based on the scale of $(tp-tc)^{2}$ . \n"
   ],
   "cell_type": "markdown",
   "metadata": {}
  },
  {
   "source": [
    "## Sensitivity Analysis\n",
    "\n",
    "Consider the function :\n",
    "\n",
    "$$ g(x,t_p,t_c) = \\frac{​​x^n* q_{t_p=t_c}​​}{e^{\\frac{(t_p - t_c)^2}{a}}} $$\n",
    "\n",
    "Analyzing the sensitivity of $a$ in $g(x,t_p,t_c)$ with respect to $(t_p - t_c)^2$ will lead to a formulaic solution to adjust $g(.)$ by understanding its porportional response to $a$. \n",
    "\n",
    "$$ S^{a}_{\\tau} = \\frac{\\partial a}{\\partial \\tau} $$"
   ],
   "cell_type": "markdown",
   "metadata": {}
  },
  {
   "source": [
    "### Solving for $a$\n",
    "\n",
    "1. Substitute $(t_p - t_c)^2 $ as $ \\tau $ \n",
    "\n",
    "$$ g(.) = \\frac{​​x^n* q​​}{e^{\\frac{\\tau}{a}}} $$\n",
    "\n",
    "2. Take the natural log of both sides\n",
    "\n",
    "$$\\ln(g(.)) = \\ln(\\frac{​​x^n* q​​}{e^{\\frac{\\tau}{a}}}) $$\n",
    "\n",
    "3. Expand the natural log on R.H.S.\n",
    "\n",
    "$$ \\ln(g(.)) = \\ln(x^n*q) - \\ln(e^{\\frac{\\tau}{a}}) $$\n",
    "\n",
    "4. Subtract $\\ln(g(.))$ on both sides\n",
    "\n",
    "$$ 0 = \\ln(x^n*q) - \\ln(e^{\\frac{\\tau}{a}}) - \\ln(g(.)) $$\n",
    "\n",
    "5. Add $\\ln(e^{\\frac{\\tau}{a}})$ to both sides\n",
    "\n",
    "$$ \\ln(e^{\\frac{\\tau}{a}}) = \\ln(x^n*q) - \\ln(g(.)) $$\n",
    "\n",
    "6. Combine $ln$ on R.H.S.\n",
    "\n",
    "$$ \\ln(e^{\\frac{\\tau}{a}}) = \\ln(\\frac{x^n*q}{g(.)}) $$\n",
    "\n",
    "7. Simplify on R.H.S , $ln(e^{\\alpha})= \\alpha$ \n",
    "\n",
    "$$ \\frac{\\tau}{a} = \\ln(\\frac{x^n*q}{g(.)}) $$\n",
    "\n",
    "8. Multiply both sides by $a$\n",
    "\n",
    "$$ \\tau = a * \\ln(\\frac{x^n*q}{g(.)}) $$\n",
    "\n",
    "9. Divide $\\ln(\\frac{x^n*q}{g(.)})$ on both sides\n",
    "\n",
    "$$ \\frac{\\tau}{\\ln(\\frac{x^n*q}{g(.)})} = a $$\n",
    "\n",
    "9. Simplify\n",
    "\n",
    "$$  a = \\tau * \\ln(\\frac{g(.)}{x^n*q})$$\n",
    "\n",
    "10. Substitute for $\\tau$\n",
    "\n",
    "$$  a = (t_p - t_c)^2 * \\ln(\\frac{g(.)}{x^n*q})$$"
   ],
   "cell_type": "markdown",
   "metadata": {}
  },
  {
   "source": [
    "### Solving for $S^{a}_{\\tau}$\n",
    "\n",
    "12. Consider the following:\n",
    "$$ S^{a}_{\\tau} = \\frac{\\partial a}{\\partial \\tau} $$\n",
    "\n",
    "13. We defined $(t_{p}-t_{c})^2 = \\tau$ to solve for $a$ , but lets consider $(t_{p}-t_{c}) = \\tau$\n",
    "\n",
    "$$  a = \\tau^2 * \\ln(\\frac{g(.)}{x^n*q})$$\n",
    "\n",
    "14. Take the partial derivative with respect to $\\tau$\n",
    "\n",
    "$$ \\frac{\\partial a}{\\partial \\tau} = \\frac{\\partial}{\\partial \\tau} (\\tau^2 * ln(\\frac{g(.)}{x^n*q}))$$\n",
    "\n",
    "15. Take the partial derivative with respect to $\\tau$\n",
    "\n",
    "$$ \\frac{\\partial a}{\\partial \\tau} = 2 * \\tau * ln(\\frac{g(.)}{x^n*q}))$$\n",
    "\n",
    "\n"
   ],
   "cell_type": "markdown",
   "metadata": {}
  },
  {
   "cell_type": "code",
   "execution_count": 10,
   "metadata": {},
   "outputs": [
    {
     "output_type": "display_data",
     "data": {
      "text/plain": "<Figure size 432x288 with 1 Axes>",
      "image/svg+xml": "<?xml version=\"1.0\" encoding=\"utf-8\" standalone=\"no\"?>\n<!DOCTYPE svg PUBLIC \"-//W3C//DTD SVG 1.1//EN\"\n  \"http://www.w3.org/Graphics/SVG/1.1/DTD/svg11.dtd\">\n<!-- Created with matplotlib (https://matplotlib.org/) -->\n<svg height=\"248.518125pt\" version=\"1.1\" viewBox=\"0 0 381.65 248.518125\" width=\"381.65pt\" xmlns=\"http://www.w3.org/2000/svg\" xmlns:xlink=\"http://www.w3.org/1999/xlink\">\n <defs>\n  <style type=\"text/css\">\n*{stroke-linecap:butt;stroke-linejoin:round;}\n  </style>\n </defs>\n <g id=\"figure_1\">\n  <g id=\"patch_1\">\n   <path d=\"M -0 248.518125 \nL 381.65 248.518125 \nL 381.65 0 \nL -0 0 \nz\n\" style=\"fill:none;\"/>\n  </g>\n  <g id=\"axes_1\">\n   <g id=\"patch_2\">\n    <path d=\"M 39.65 224.64 \nL 374.45 224.64 \nL 374.45 7.2 \nL 39.65 7.2 \nz\n\" style=\"fill:#ffffff;\"/>\n   </g>\n   <g id=\"matplotlib.axis_1\">\n    <g id=\"xtick_1\">\n     <g id=\"line2d_1\">\n      <defs>\n       <path d=\"M 0 0 \nL 0 3.5 \n\" id=\"mefe93f86f8\" style=\"stroke:#000000;stroke-width:0.8;\"/>\n      </defs>\n      <g>\n       <use style=\"stroke:#000000;stroke-width:0.8;\" x=\"51.76243\" xlink:href=\"#mefe93f86f8\" y=\"224.64\"/>\n      </g>\n     </g>\n     <g id=\"text_1\">\n      <!-- 0 -->\n      <defs>\n       <path d=\"M 31.78125 66.40625 \nQ 24.171875 66.40625 20.328125 58.90625 \nQ 16.5 51.421875 16.5 36.375 \nQ 16.5 21.390625 20.328125 13.890625 \nQ 24.171875 6.390625 31.78125 6.390625 \nQ 39.453125 6.390625 43.28125 13.890625 \nQ 47.125 21.390625 47.125 36.375 \nQ 47.125 51.421875 43.28125 58.90625 \nQ 39.453125 66.40625 31.78125 66.40625 \nz\nM 31.78125 74.21875 \nQ 44.046875 74.21875 50.515625 64.515625 \nQ 56.984375 54.828125 56.984375 36.375 \nQ 56.984375 17.96875 50.515625 8.265625 \nQ 44.046875 -1.421875 31.78125 -1.421875 \nQ 19.53125 -1.421875 13.0625 8.265625 \nQ 6.59375 17.96875 6.59375 36.375 \nQ 6.59375 54.828125 13.0625 64.515625 \nQ 19.53125 74.21875 31.78125 74.21875 \nz\n\" id=\"DejaVuSans-48\"/>\n      </defs>\n      <g transform=\"translate(48.58118 239.238438)scale(0.1 -0.1)\">\n       <use xlink:href=\"#DejaVuSans-48\"/>\n      </g>\n     </g>\n    </g>\n    <g id=\"xtick_2\">\n     <g id=\"line2d_2\">\n      <g>\n       <use style=\"stroke:#000000;stroke-width:0.8;\" x=\"113.877458\" xlink:href=\"#mefe93f86f8\" y=\"224.64\"/>\n      </g>\n     </g>\n     <g id=\"text_2\">\n      <!-- 20 -->\n      <defs>\n       <path d=\"M 19.1875 8.296875 \nL 53.609375 8.296875 \nL 53.609375 0 \nL 7.328125 0 \nL 7.328125 8.296875 \nQ 12.9375 14.109375 22.625 23.890625 \nQ 32.328125 33.6875 34.8125 36.53125 \nQ 39.546875 41.84375 41.421875 45.53125 \nQ 43.3125 49.21875 43.3125 52.78125 \nQ 43.3125 58.59375 39.234375 62.25 \nQ 35.15625 65.921875 28.609375 65.921875 \nQ 23.96875 65.921875 18.8125 64.3125 \nQ 13.671875 62.703125 7.8125 59.421875 \nL 7.8125 69.390625 \nQ 13.765625 71.78125 18.9375 73 \nQ 24.125 74.21875 28.421875 74.21875 \nQ 39.75 74.21875 46.484375 68.546875 \nQ 53.21875 62.890625 53.21875 53.421875 \nQ 53.21875 48.921875 51.53125 44.890625 \nQ 49.859375 40.875 45.40625 35.40625 \nQ 44.1875 33.984375 37.640625 27.21875 \nQ 31.109375 20.453125 19.1875 8.296875 \nz\n\" id=\"DejaVuSans-50\"/>\n      </defs>\n      <g transform=\"translate(107.514958 239.238438)scale(0.1 -0.1)\">\n       <use xlink:href=\"#DejaVuSans-50\"/>\n       <use x=\"63.623047\" xlink:href=\"#DejaVuSans-48\"/>\n      </g>\n     </g>\n    </g>\n    <g id=\"xtick_3\">\n     <g id=\"line2d_3\">\n      <g>\n       <use style=\"stroke:#000000;stroke-width:0.8;\" x=\"175.992486\" xlink:href=\"#mefe93f86f8\" y=\"224.64\"/>\n      </g>\n     </g>\n     <g id=\"text_3\">\n      <!-- 40 -->\n      <defs>\n       <path d=\"M 37.796875 64.3125 \nL 12.890625 25.390625 \nL 37.796875 25.390625 \nz\nM 35.203125 72.90625 \nL 47.609375 72.90625 \nL 47.609375 25.390625 \nL 58.015625 25.390625 \nL 58.015625 17.1875 \nL 47.609375 17.1875 \nL 47.609375 0 \nL 37.796875 0 \nL 37.796875 17.1875 \nL 4.890625 17.1875 \nL 4.890625 26.703125 \nz\n\" id=\"DejaVuSans-52\"/>\n      </defs>\n      <g transform=\"translate(169.629986 239.238438)scale(0.1 -0.1)\">\n       <use xlink:href=\"#DejaVuSans-52\"/>\n       <use x=\"63.623047\" xlink:href=\"#DejaVuSans-48\"/>\n      </g>\n     </g>\n    </g>\n    <g id=\"xtick_4\">\n     <g id=\"line2d_4\">\n      <g>\n       <use style=\"stroke:#000000;stroke-width:0.8;\" x=\"238.107514\" xlink:href=\"#mefe93f86f8\" y=\"224.64\"/>\n      </g>\n     </g>\n     <g id=\"text_4\">\n      <!-- 60 -->\n      <defs>\n       <path d=\"M 33.015625 40.375 \nQ 26.375 40.375 22.484375 35.828125 \nQ 18.609375 31.296875 18.609375 23.390625 \nQ 18.609375 15.53125 22.484375 10.953125 \nQ 26.375 6.390625 33.015625 6.390625 \nQ 39.65625 6.390625 43.53125 10.953125 \nQ 47.40625 15.53125 47.40625 23.390625 \nQ 47.40625 31.296875 43.53125 35.828125 \nQ 39.65625 40.375 33.015625 40.375 \nz\nM 52.59375 71.296875 \nL 52.59375 62.3125 \nQ 48.875 64.0625 45.09375 64.984375 \nQ 41.3125 65.921875 37.59375 65.921875 \nQ 27.828125 65.921875 22.671875 59.328125 \nQ 17.53125 52.734375 16.796875 39.40625 \nQ 19.671875 43.65625 24.015625 45.921875 \nQ 28.375 48.1875 33.59375 48.1875 \nQ 44.578125 48.1875 50.953125 41.515625 \nQ 57.328125 34.859375 57.328125 23.390625 \nQ 57.328125 12.15625 50.6875 5.359375 \nQ 44.046875 -1.421875 33.015625 -1.421875 \nQ 20.359375 -1.421875 13.671875 8.265625 \nQ 6.984375 17.96875 6.984375 36.375 \nQ 6.984375 53.65625 15.1875 63.9375 \nQ 23.390625 74.21875 37.203125 74.21875 \nQ 40.921875 74.21875 44.703125 73.484375 \nQ 48.484375 72.75 52.59375 71.296875 \nz\n\" id=\"DejaVuSans-54\"/>\n      </defs>\n      <g transform=\"translate(231.745014 239.238438)scale(0.1 -0.1)\">\n       <use xlink:href=\"#DejaVuSans-54\"/>\n       <use x=\"63.623047\" xlink:href=\"#DejaVuSans-48\"/>\n      </g>\n     </g>\n    </g>\n    <g id=\"xtick_5\">\n     <g id=\"line2d_5\">\n      <g>\n       <use style=\"stroke:#000000;stroke-width:0.8;\" x=\"300.222542\" xlink:href=\"#mefe93f86f8\" y=\"224.64\"/>\n      </g>\n     </g>\n     <g id=\"text_5\">\n      <!-- 80 -->\n      <defs>\n       <path d=\"M 31.78125 34.625 \nQ 24.75 34.625 20.71875 30.859375 \nQ 16.703125 27.09375 16.703125 20.515625 \nQ 16.703125 13.921875 20.71875 10.15625 \nQ 24.75 6.390625 31.78125 6.390625 \nQ 38.8125 6.390625 42.859375 10.171875 \nQ 46.921875 13.96875 46.921875 20.515625 \nQ 46.921875 27.09375 42.890625 30.859375 \nQ 38.875 34.625 31.78125 34.625 \nz\nM 21.921875 38.8125 \nQ 15.578125 40.375 12.03125 44.71875 \nQ 8.5 49.078125 8.5 55.328125 \nQ 8.5 64.0625 14.71875 69.140625 \nQ 20.953125 74.21875 31.78125 74.21875 \nQ 42.671875 74.21875 48.875 69.140625 \nQ 55.078125 64.0625 55.078125 55.328125 \nQ 55.078125 49.078125 51.53125 44.71875 \nQ 48 40.375 41.703125 38.8125 \nQ 48.828125 37.15625 52.796875 32.3125 \nQ 56.78125 27.484375 56.78125 20.515625 \nQ 56.78125 9.90625 50.3125 4.234375 \nQ 43.84375 -1.421875 31.78125 -1.421875 \nQ 19.734375 -1.421875 13.25 4.234375 \nQ 6.78125 9.90625 6.78125 20.515625 \nQ 6.78125 27.484375 10.78125 32.3125 \nQ 14.796875 37.15625 21.921875 38.8125 \nz\nM 18.3125 54.390625 \nQ 18.3125 48.734375 21.84375 45.5625 \nQ 25.390625 42.390625 31.78125 42.390625 \nQ 38.140625 42.390625 41.71875 45.5625 \nQ 45.3125 48.734375 45.3125 54.390625 \nQ 45.3125 60.0625 41.71875 63.234375 \nQ 38.140625 66.40625 31.78125 66.40625 \nQ 25.390625 66.40625 21.84375 63.234375 \nQ 18.3125 60.0625 18.3125 54.390625 \nz\n\" id=\"DejaVuSans-56\"/>\n      </defs>\n      <g transform=\"translate(293.860042 239.238438)scale(0.1 -0.1)\">\n       <use xlink:href=\"#DejaVuSans-56\"/>\n       <use x=\"63.623047\" xlink:href=\"#DejaVuSans-48\"/>\n      </g>\n     </g>\n    </g>\n    <g id=\"xtick_6\">\n     <g id=\"line2d_6\">\n      <g>\n       <use style=\"stroke:#000000;stroke-width:0.8;\" x=\"362.33757\" xlink:href=\"#mefe93f86f8\" y=\"224.64\"/>\n      </g>\n     </g>\n     <g id=\"text_6\">\n      <!-- 100 -->\n      <defs>\n       <path d=\"M 12.40625 8.296875 \nL 28.515625 8.296875 \nL 28.515625 63.921875 \nL 10.984375 60.40625 \nL 10.984375 69.390625 \nL 28.421875 72.90625 \nL 38.28125 72.90625 \nL 38.28125 8.296875 \nL 54.390625 8.296875 \nL 54.390625 0 \nL 12.40625 0 \nz\n\" id=\"DejaVuSans-49\"/>\n      </defs>\n      <g transform=\"translate(352.79382 239.238438)scale(0.1 -0.1)\">\n       <use xlink:href=\"#DejaVuSans-49\"/>\n       <use x=\"63.623047\" xlink:href=\"#DejaVuSans-48\"/>\n       <use x=\"127.246094\" xlink:href=\"#DejaVuSans-48\"/>\n      </g>\n     </g>\n    </g>\n   </g>\n   <g id=\"matplotlib.axis_2\">\n    <g id=\"ytick_1\">\n     <g id=\"line2d_7\">\n      <defs>\n       <path d=\"M 0 0 \nL -3.5 0 \n\" id=\"m61c4f78e53\" style=\"stroke:#000000;stroke-width:0.8;\"/>\n      </defs>\n      <g>\n       <use style=\"stroke:#000000;stroke-width:0.8;\" x=\"39.65\" xlink:href=\"#m61c4f78e53\" y=\"216.773432\"/>\n      </g>\n     </g>\n     <g id=\"text_7\">\n      <!-- 0 -->\n      <g transform=\"translate(26.2875 220.572651)scale(0.1 -0.1)\">\n       <use xlink:href=\"#DejaVuSans-48\"/>\n      </g>\n     </g>\n    </g>\n    <g id=\"ytick_2\">\n     <g id=\"line2d_8\">\n      <g>\n       <use style=\"stroke:#000000;stroke-width:0.8;\" x=\"39.65\" xlink:href=\"#m61c4f78e53\" y=\"187.573373\"/>\n      </g>\n     </g>\n     <g id=\"text_8\">\n      <!-- 200 -->\n      <g transform=\"translate(13.5625 191.372592)scale(0.1 -0.1)\">\n       <use xlink:href=\"#DejaVuSans-50\"/>\n       <use x=\"63.623047\" xlink:href=\"#DejaVuSans-48\"/>\n       <use x=\"127.246094\" xlink:href=\"#DejaVuSans-48\"/>\n      </g>\n     </g>\n    </g>\n    <g id=\"ytick_3\">\n     <g id=\"line2d_9\">\n      <g>\n       <use style=\"stroke:#000000;stroke-width:0.8;\" x=\"39.65\" xlink:href=\"#m61c4f78e53\" y=\"158.373313\"/>\n      </g>\n     </g>\n     <g id=\"text_9\">\n      <!-- 400 -->\n      <g transform=\"translate(13.5625 162.172532)scale(0.1 -0.1)\">\n       <use xlink:href=\"#DejaVuSans-52\"/>\n       <use x=\"63.623047\" xlink:href=\"#DejaVuSans-48\"/>\n       <use x=\"127.246094\" xlink:href=\"#DejaVuSans-48\"/>\n      </g>\n     </g>\n    </g>\n    <g id=\"ytick_4\">\n     <g id=\"line2d_10\">\n      <g>\n       <use style=\"stroke:#000000;stroke-width:0.8;\" x=\"39.65\" xlink:href=\"#m61c4f78e53\" y=\"129.173254\"/>\n      </g>\n     </g>\n     <g id=\"text_10\">\n      <!-- 600 -->\n      <g transform=\"translate(13.5625 132.972473)scale(0.1 -0.1)\">\n       <use xlink:href=\"#DejaVuSans-54\"/>\n       <use x=\"63.623047\" xlink:href=\"#DejaVuSans-48\"/>\n       <use x=\"127.246094\" xlink:href=\"#DejaVuSans-48\"/>\n      </g>\n     </g>\n    </g>\n    <g id=\"ytick_5\">\n     <g id=\"line2d_11\">\n      <g>\n       <use style=\"stroke:#000000;stroke-width:0.8;\" x=\"39.65\" xlink:href=\"#m61c4f78e53\" y=\"99.973195\"/>\n      </g>\n     </g>\n     <g id=\"text_11\">\n      <!-- 800 -->\n      <g transform=\"translate(13.5625 103.772413)scale(0.1 -0.1)\">\n       <use xlink:href=\"#DejaVuSans-56\"/>\n       <use x=\"63.623047\" xlink:href=\"#DejaVuSans-48\"/>\n       <use x=\"127.246094\" xlink:href=\"#DejaVuSans-48\"/>\n      </g>\n     </g>\n    </g>\n    <g id=\"ytick_6\">\n     <g id=\"line2d_12\">\n      <g>\n       <use style=\"stroke:#000000;stroke-width:0.8;\" x=\"39.65\" xlink:href=\"#m61c4f78e53\" y=\"70.773135\"/>\n      </g>\n     </g>\n     <g id=\"text_12\">\n      <!-- 1000 -->\n      <g transform=\"translate(7.2 74.572354)scale(0.1 -0.1)\">\n       <use xlink:href=\"#DejaVuSans-49\"/>\n       <use x=\"63.623047\" xlink:href=\"#DejaVuSans-48\"/>\n       <use x=\"127.246094\" xlink:href=\"#DejaVuSans-48\"/>\n       <use x=\"190.869141\" xlink:href=\"#DejaVuSans-48\"/>\n      </g>\n     </g>\n    </g>\n    <g id=\"ytick_7\">\n     <g id=\"line2d_13\">\n      <g>\n       <use style=\"stroke:#000000;stroke-width:0.8;\" x=\"39.65\" xlink:href=\"#m61c4f78e53\" y=\"41.573076\"/>\n      </g>\n     </g>\n     <g id=\"text_13\">\n      <!-- 1200 -->\n      <g transform=\"translate(7.2 45.372295)scale(0.1 -0.1)\">\n       <use xlink:href=\"#DejaVuSans-49\"/>\n       <use x=\"63.623047\" xlink:href=\"#DejaVuSans-50\"/>\n       <use x=\"127.246094\" xlink:href=\"#DejaVuSans-48\"/>\n       <use x=\"190.869141\" xlink:href=\"#DejaVuSans-48\"/>\n      </g>\n     </g>\n    </g>\n    <g id=\"ytick_8\">\n     <g id=\"line2d_14\">\n      <g>\n       <use style=\"stroke:#000000;stroke-width:0.8;\" x=\"39.65\" xlink:href=\"#m61c4f78e53\" y=\"12.373016\"/>\n      </g>\n     </g>\n     <g id=\"text_14\">\n      <!-- 1400 -->\n      <g transform=\"translate(7.2 16.172235)scale(0.1 -0.1)\">\n       <use xlink:href=\"#DejaVuSans-49\"/>\n       <use x=\"63.623047\" xlink:href=\"#DejaVuSans-52\"/>\n       <use x=\"127.246094\" xlink:href=\"#DejaVuSans-48\"/>\n       <use x=\"190.869141\" xlink:href=\"#DejaVuSans-48\"/>\n      </g>\n     </g>\n    </g>\n   </g>\n   <g id=\"line2d_15\">\n    <path clip-path=\"url(#pf5eb9760a1)\" d=\"M 54.868182 214.756364 \nL 57.973933 212.739295 \nL 61.079685 210.722226 \nL 64.185436 208.705158 \nL 67.291187 206.688089 \nL 70.396939 204.67102 \nL 73.50269 202.653952 \nL 76.608442 200.636883 \nL 79.714193 198.619814 \nL 82.819944 196.602746 \nL 85.925696 194.585677 \nL 89.031447 192.568609 \nL 92.137199 190.55154 \nL 95.24295 188.534471 \nL 98.348701 186.517403 \nL 101.454453 184.500334 \nL 104.560204 182.483265 \nL 107.665955 180.466197 \nL 110.771707 178.449128 \nL 113.877458 176.432059 \nL 116.98321 174.414991 \nL 120.088961 172.397922 \nL 123.194712 170.380853 \nL 126.300464 168.363785 \nL 129.406215 166.346716 \nL 132.511967 164.329647 \nL 135.617718 162.312579 \nL 138.723469 160.29551 \nL 141.829221 158.278442 \nL 144.934972 156.261373 \nL 148.040724 154.244304 \nL 151.146475 152.227236 \nL 154.252226 150.210167 \nL 157.357978 148.193098 \nL 160.463729 146.17603 \nL 163.569481 144.158961 \nL 166.675232 142.141892 \nL 169.780983 140.124824 \nL 172.886735 138.107755 \nL 175.992486 136.090686 \nL 179.098237 134.073618 \nL 182.203989 132.056549 \nL 185.30974 130.039481 \nL 188.415492 128.022412 \nL 191.521243 126.005343 \nL 194.626994 123.988275 \nL 197.732746 121.971206 \nL 200.838497 119.954137 \nL 203.944249 117.937069 \nL 207.05 115.92 \nL 210.155751 113.902931 \nL 213.261503 111.885863 \nL 216.367254 109.868794 \nL 219.473006 107.851725 \nL 222.578757 105.834657 \nL 225.684508 103.817588 \nL 228.79026 101.800519 \nL 231.896011 99.783451 \nL 235.001763 97.766382 \nL 238.107514 95.749314 \nL 241.213265 93.732245 \nL 244.319017 91.715176 \nL 247.424768 89.698108 \nL 250.530519 87.681039 \nL 253.636271 85.66397 \nL 256.742022 83.646902 \nL 259.847774 81.629833 \nL 262.953525 79.612764 \nL 266.059276 77.595696 \nL 269.165028 75.578627 \nL 272.270779 73.561558 \nL 275.376531 71.54449 \nL 278.482282 69.527421 \nL 281.588033 67.510353 \nL 284.693785 65.493284 \nL 287.799536 63.476215 \nL 290.905288 61.459147 \nL 294.011039 59.442078 \nL 297.11679 57.425009 \nL 300.222542 55.407941 \nL 303.328293 53.390872 \nL 306.434045 51.373803 \nL 309.539796 49.356735 \nL 312.645547 47.339666 \nL 315.751299 45.322597 \nL 318.85705 43.305529 \nL 321.962801 41.28846 \nL 325.068553 39.271391 \nL 328.174304 37.254323 \nL 331.280056 35.237254 \nL 334.385807 33.220186 \nL 337.491558 31.203117 \nL 340.59731 29.186048 \nL 343.703061 27.16898 \nL 346.808813 25.151911 \nL 349.914564 23.134842 \nL 353.020315 21.117774 \nL 356.126067 19.100705 \nL 359.231818 17.083636 \n\" style=\"fill:none;stroke:#1f77b4;stroke-linecap:square;stroke-width:1.5;\"/>\n   </g>\n   <g id=\"patch_3\">\n    <path d=\"M 39.65 224.64 \nL 39.65 7.2 \n\" style=\"fill:none;stroke:#000000;stroke-linecap:square;stroke-linejoin:miter;stroke-width:0.8;\"/>\n   </g>\n   <g id=\"patch_4\">\n    <path d=\"M 374.45 224.64 \nL 374.45 7.2 \n\" style=\"fill:none;stroke:#000000;stroke-linecap:square;stroke-linejoin:miter;stroke-width:0.8;\"/>\n   </g>\n   <g id=\"patch_5\">\n    <path d=\"M 39.65 224.64 \nL 374.45 224.64 \n\" style=\"fill:none;stroke:#000000;stroke-linecap:square;stroke-linejoin:miter;stroke-width:0.8;\"/>\n   </g>\n   <g id=\"patch_6\">\n    <path d=\"M 39.65 7.2 \nL 374.45 7.2 \n\" style=\"fill:none;stroke:#000000;stroke-linecap:square;stroke-linejoin:miter;stroke-width:0.8;\"/>\n   </g>\n  </g>\n </g>\n <defs>\n  <clipPath id=\"pf5eb9760a1\">\n   <rect height=\"217.44\" width=\"334.8\" x=\"39.65\" y=\"7.2\"/>\n  </clipPath>\n </defs>\n</svg>\n",
      "image/png": "[encoded data removed]"
     },
     "metadata": {}
    }
   ],
   "source": [
    "import matplotlib.pyplot as plt\n",
    "import numpy as np\n",
    "tau = np.arange(1,100)\n",
    "g_x_q = 1000\n",
    "da_dt = 2*tau*np.log(g_x_q)\n",
    "plt.plot(tau,da_dt)\n",
    "plt.show()\n"
   ]
  },
  {
   "source": [
    "## Multi-Variable Function Analysis of g(.)\n",
    "\n",
    "Partial derivatives of the g() can be taken with respect to each of the input variables. \n",
    "\n",
    "Lets, consider $a$ as a variable and not a designed scaled constant. This would allow us to understand the movement of this variable and its effect on g().\n",
    "\n",
    "Redefine variables for simplicity:\n",
    "- Substitute $x^n * q$ for $\\gamma$ \n",
    "- Substitute $t_p - t_c$ for $\\tau$ \n",
    "\n",
    "Therefore : \n",
    "\n",
    "11.1 $$ g(\\gamma,\\tau,a) = \\frac{​​\\gamma}{e^{\\frac{\\tau}{a}}} $$ "
   ],
   "cell_type": "markdown",
   "metadata": {}
  },
  {
   "source": [
    "Take the partial derivatives of each variable with respect to the other two. \n",
    "\n",
    "11.2 $$ \\frac{\\partial g}{\\partial \\gamma} = \\frac{1}{e^{\\frac{\\tau}{a}}} $$  \n",
    "\n",
    "11.3 $$ \\frac{\\partial g}{\\partial \\tau} = -\\frac{\\gamma e^-\\frac{\\tau}{a}}{a} $$  \n",
    "\n",
    "11.4 $$ \\frac{\\partial g}{\\partial a} = \\frac{\\gamma \\tau e^-\\frac{\\tau}{a}}{a^2} $$\n"
   ],
   "cell_type": "markdown",
   "metadata": {}
  },
  {
   "source": [
    "### Bounding of the 'a' scalar with resepct to g(.)\n",
    "\n",
    "$$ \\lim_{a \\to \\infty} g(x,t_p,t_c) = \\frac{​​x^n* q_{t_p=t_c}​​}{e^{\\frac{\\tau}{\\infty}}} $$\n",
    "\n",
    "Assuming that the numerator is equal to 0 :\n",
    "\n",
    "$$  0 = (t_p - t_c)^2  $$\n",
    "$$  e^{\\frac{0}{\\infty}} = undefined $$\n",
    "\n",
    "Assuming that the numerator remain greater than 0 :\n",
    "\n",
    "$$  0 \\lt (t_p - t_c)^2 \\lt \\infty $$\n",
    "\n",
    "$$ e^{\\frac{1}{\\infty}} = e^{0} = 1 $$\n",
    "\n",
    "Assuming that the numerator goes towards infinity (as fast as 'a') :\n",
    "\n",
    "$$ e^{\\frac{\\infty}{\\infty}} = e^{1} = 2.718$$\n",
    "\n",
    "\n",
    "Resulting:\n",
    "\n",
    "\n",
    "1. When $(t_p - t_c)^2 = 0 $ ; $ \\lim_{a \\to \\infty} g(x,t_p,t_c) = undefined​​ $\n",
    "2. When $ 0 < (t_p - t_c)^2 < a $ ; $ \\lim_{a \\to \\infty} g(x,t_p,t_c) = ​x^n* q_{t_p=t_c}​​ $\n",
    "3. When $(t_p - t_c)^2 = a $ ; $ \\lim_{a \\to \\infty} g(x,t_p,t_c) = ​\\frac{x^n* q_{t_p=t_c}}{2.718}​​ $"
   ],
   "cell_type": "markdown",
   "metadata": {}
  },
  {
   "source": [],
   "cell_type": "markdown",
   "metadata": {}
  },
  {
   "source": [
    "## Reference \n",
    "1. Mihail Mihaylov, Sergio Jurado, \"NRG-X-ChangeA Novel Mechanism for Trading of Renewable Energy in Smart Grids\". R&D Department, Sensing & Control, Barcelona, Spain"
   ],
   "cell_type": "markdown",
   "metadata": {}
  },
  {
   "source": [
    "## Appendix\n",
    "Additional derivations for the partial derivative of 'a'\n",
    "\n",
    "15. Substitute\n",
    "\n",
    "$$ \\frac{\\partial a}{\\partial \\tau} = 2 * (t_{p}-t_{c}) * ln(\\frac{g(.)}{x^n*q}))$$\n",
    "\n",
    "15. Expand\n",
    "\n",
    "$$ \\frac{\\partial a}{\\partial \\tau} = 2*t_{p}*ln(\\frac{g(.)}{x^n*q})-2*t_{c}*ln(\\frac{g(.)}{x^n*q})$$\n",
    "\n",
    "15. Expand $ln()$\n",
    "\n",
    "$$ \\frac{\\partial a}{\\partial \\tau} = [2*t_{p}*(ln(g(.)) - ln(x^n*q))]-[2*t_{c}*(ln(g(.)) - ln(x^n*q))]$$\n",
    "\n",
    "16. Expand \n",
    "\n",
    "$$ \\frac{\\partial a}{\\partial \\tau} = 2*t_{p}*ln(g(.)) - 2*t_{p}*ln(x^n*q) - 2*t_{c}*ln(g(.)) - 2*t_{c}*ln(x^n*q)$$\n",
    "\n",
    "16. Combine like terms\n",
    "\n",
    "$$ \\frac{\\partial a}{\\partial \\tau} = [2*ln(g(.))*(t_{p} - t_{c})] - [2*ln(x^n*q)*(t_{c} - t_{p})]$$\n",
    "\n",
    "17. When derivative is = 0 then it is at its max and min\n",
    "\n",
    "$$ 0 = [2*ln(g(.))*(t_{p} - t_{c})] - [2*ln(x^n*q)*(t_{c} - t_{p})]$$\n",
    "\n",
    "$$ [2*ln(x^n*q)*(t_{c} - t_{p})] = [2*ln(g(.))*(t_{p} - t_{c})] $$"
   ],
   "cell_type": "markdown",
   "metadata": {}
  },
  {
   "cell_type": "code",
   "execution_count": null,
   "metadata": {},
   "outputs": [],
   "source": []
  }
 ]
}