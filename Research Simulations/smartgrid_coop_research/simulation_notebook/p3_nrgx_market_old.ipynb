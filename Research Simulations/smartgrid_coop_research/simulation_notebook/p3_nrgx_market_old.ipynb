{
 "metadata": {
  "language_info": {
   "codemirror_mode": {
    "name": "ipython",
    "version": 3
   },
   "file_extension": ".py",
   "mimetype": "text/x-python",
   "name": "python",
   "nbconvert_exporter": "python",
   "pygments_lexer": "ipython3",
   "version": "3.6.4-final"
  },
  "orig_nbformat": 2,
  "kernelspec": {
   "name": "python364jvsc74a57bd0398dc28c06ad810e77de546bbdfa897a6ee0b83e59a5207339dda01a7843e01d",
   "display_name": "Python 3.6.4 64-bit (conda)"
  }
 },
 "nbformat": 4,
 "nbformat_minor": 2,
 "cells": [
  {
   "source": [
    "# Simulation of Prosumers in a Net-Metered Market with a Utility\n",
    "\n",
    "## Description:\n",
    "Prosumers are collected as a model with the consumption, generation, net energy and pricing data avaialble.\n",
    "\n",
    "## Steps:\n",
    "### 1. Data Gathering \n",
    "    - Shows the steps taken to acquire the data from EIA.gov\n",
    "    - Validation of collected data with other resources , ie. NREL\n",
    "\n",
    "### 2. Data Cleansing\n",
    "    - Conversion of units, normalization and joing of datasets\n",
    "    \n",
    "### 3. Build Model from Data\n",
    "    - Implement statistical variations to curves\n",
    "    - Create individual prosumer models and save to csv file"
   ],
   "cell_type": "markdown",
   "metadata": {}
  },
  {
   "source": [
    "# Net-Metering for a Network of Prosumers\n",
    "\n",
    "**What is Net-Metering?**\n",
    "[Net metering](https://en.wikipedia.org/wiki/Net_metering) is an electricity billing mechanism that allows consumers who generate some or all of their own electricity to use that electricity anytime, instead of when it is generated. This is particularly important with renewable energy sources like wind and solar, which are non-dispatchable. \n",
    "\n",
    "We can define the payment for a prosumer in the state of Florida by the retail pricing provided to the prosumer for every kWh that is injected back into the Grid. "
   ],
   "cell_type": "markdown",
   "metadata": {}
  },
  {
   "cell_type": "code",
   "execution_count": 8,
   "metadata": {},
   "outputs": [],
   "source": [
    "def get_net_meter_payment(price,net_energy):\n",
    "    # convert to dollars from cents\n",
    "    return abs(net_energy)*(0.01*price)"
   ]
  },
  {
   "source": [
    "Lets define a large (100+) number of prosumers in the FPL territory and consider the net-metering profits the prosumers could make during the course of a year. We will also use the same assumptions made to the average consumption and average generation of a typical prosumer in the area. These assumptions can be adjusted if the capacity and usage of each home is known. The prosumer class will be modified to support generating the profit for each month given the price curve."
   ],
   "cell_type": "markdown",
   "metadata": {}
  },
  {
   "cell_type": "code",
   "execution_count": 13,
   "metadata": {
    "tags": []
   },
   "outputs": [
    {
     "output_type": "error",
     "ename": "NameError",
     "evalue": "name 'get_prosumers' is not defined",
     "traceback": [
      "\u001b[0;31m---------------------------------------------------------------------------\u001b[0m",
      "\u001b[0;31mNameError\u001b[0m                                 Traceback (most recent call last)",
      "\u001b[0;32m<ipython-input-13-7017b9fc8b41>\u001b[0m in \u001b[0;36m<module>\u001b[0;34m()\u001b[0m\n\u001b[1;32m      1\u001b[0m \u001b[0;31m# Generate a collection of prosumers\u001b[0m\u001b[0;34m\u001b[0m\u001b[0;34m\u001b[0m\u001b[0m\n\u001b[1;32m      2\u001b[0m \u001b[0mN\u001b[0m \u001b[0;34m=\u001b[0m \u001b[0;36m100\u001b[0m \u001b[0;31m# Number of prosumers to create\u001b[0m\u001b[0;34m\u001b[0m\u001b[0m\n\u001b[0;32m----> 3\u001b[0;31m prosumers = get_prosumers(N, \n\u001b[0m\u001b[1;32m      4\u001b[0m                     gen_args= {\n\u001b[1;32m      5\u001b[0m                     \u001b[0;34m'type'\u001b[0m\u001b[0;34m:\u001b[0m\u001b[0;34m'generation'\u001b[0m\u001b[0;34m,\u001b[0m\u001b[0;34m\u001b[0m\u001b[0m\n",
      "\u001b[0;31mNameError\u001b[0m: name 'get_prosumers' is not defined"
     ]
    }
   ],
   "source": [
    "# Generate a collection of prosumers\n",
    "N = 100 # Number of prosumers to create\n",
    "prosumers = get_prosumers(N, \n",
    "                    gen_args= {\n",
    "                    'type':'generation',\n",
    "                    'mean':1200,\n",
    "                    'std': 1200 * 0.2, #20% of mean,\n",
    "                    'ulim':1200, # upper limit (capacity),\n",
    "                    'llim':0 # lower limit\n",
    "                    },gen_df=generation.df, \n",
    "                    dem_args= {   \n",
    "                    'type':'demand',\n",
    "                    'mean':1100,\n",
    "                    'std': 1100 * 0.2, #20% of mean\n",
    "                    'ulim':1100 * 2, # upper limit (max load),\n",
    "                    'llim':1100 * 0.1 # lower limit (constant load) \n",
    "                    },dem_df=demand.df)\n",
    "#set the price\n",
    "for prosumer in prosumers:\n",
    "    prosumer.set_price(price_df=price.df,method=get_net_meter_payment)\n"
   ]
  },
  {
   "source": [
    "Analyze the average profit for all prosumers"
   ],
   "cell_type": "markdown",
   "metadata": {}
  },
  {
   "cell_type": "code",
   "execution_count": 18,
   "metadata": {},
   "outputs": [
    {
     "output_type": "display_data",
     "data": {
      "text/plain": "<Figure size 432x288 with 1 Axes>",
      "image/svg+xml": "<?xml version=\"1.0\" encoding=\"utf-8\" standalone=\"no\"?>\n<!DOCTYPE svg PUBLIC \"-//W3C//DTD SVG 1.1//EN\"\n  \"http://www.w3.org/Graphics/SVG/1.1/DTD/svg11.dtd\">\n<!-- Created with matplotlib (https://matplotlib.org/) -->\n<svg height=\"250.458125pt\" version=\"1.1\" viewBox=\"0 0 368.925 250.458125\" width=\"368.925pt\" xmlns=\"http://www.w3.org/2000/svg\" xmlns:xlink=\"http://www.w3.org/1999/xlink\">\n <defs>\n  <style type=\"text/css\">\n*{stroke-linecap:butt;stroke-linejoin:round;}\n  </style>\n </defs>\n <g id=\"figure_1\">\n  <g id=\"patch_1\">\n   <path d=\"M -0 250.458125 \nL 368.925 250.458125 \nL 368.925 0 \nL -0 0 \nz\n\" style=\"fill:none;\"/>\n  </g>\n  <g id=\"axes_1\">\n   <g id=\"patch_2\">\n    <path d=\"M 26.925 239.758125 \nL 361.725 239.758125 \nL 361.725 22.318125 \nL 26.925 22.318125 \nz\n\" style=\"fill:#ffffff;\"/>\n   </g>\n   <g id=\"matplotlib.axis_1\">\n    <g id=\"xtick_1\">\n     <g id=\"line2d_1\">\n      <defs>\n       <path d=\"M 0 0 \nL 0 3.5 \n\" id=\"m03c0a36381\" style=\"stroke:#000000;stroke-width:0.8;\"/>\n      </defs>\n      <g>\n       <use style=\"stroke:#000000;stroke-width:0.8;\" x=\"42.143182\" xlink:href=\"#m03c0a36381\" y=\"239.758125\"/>\n      </g>\n     </g>\n    </g>\n    <g id=\"xtick_2\">\n     <g id=\"line2d_2\">\n      <g>\n       <use style=\"stroke:#000000;stroke-width:0.8;\" x=\"103.630785\" xlink:href=\"#m03c0a36381\" y=\"239.758125\"/>\n      </g>\n     </g>\n    </g>\n    <g id=\"xtick_3\">\n     <g id=\"line2d_3\">\n      <g>\n       <use style=\"stroke:#000000;stroke-width:0.8;\" x=\"165.118388\" xlink:href=\"#m03c0a36381\" y=\"239.758125\"/>\n      </g>\n     </g>\n    </g>\n    <g id=\"xtick_4\">\n     <g id=\"line2d_4\">\n      <g>\n       <use style=\"stroke:#000000;stroke-width:0.8;\" x=\"226.605992\" xlink:href=\"#m03c0a36381\" y=\"239.758125\"/>\n      </g>\n     </g>\n    </g>\n    <g id=\"xtick_5\">\n     <g id=\"line2d_5\">\n      <g>\n       <use style=\"stroke:#000000;stroke-width:0.8;\" x=\"288.093595\" xlink:href=\"#m03c0a36381\" y=\"239.758125\"/>\n      </g>\n     </g>\n    </g>\n    <g id=\"xtick_6\">\n     <g id=\"line2d_6\">\n      <g>\n       <use style=\"stroke:#000000;stroke-width:0.8;\" x=\"349.581198\" xlink:href=\"#m03c0a36381\" y=\"239.758125\"/>\n      </g>\n     </g>\n    </g>\n   </g>\n   <g id=\"matplotlib.axis_2\">\n    <g id=\"ytick_1\">\n     <g id=\"line2d_7\">\n      <defs>\n       <path d=\"M 0 0 \nL -3.5 0 \n\" id=\"made346e316\" style=\"stroke:#000000;stroke-width:0.8;\"/>\n      </defs>\n      <g>\n       <use style=\"stroke:#000000;stroke-width:0.8;\" x=\"26.925\" xlink:href=\"#made346e316\" y=\"211.023837\"/>\n      </g>\n     </g>\n     <g id=\"text_1\">\n      <!-- 10 -->\n      <defs>\n       <path d=\"M 12.40625 8.296875 \nL 28.515625 8.296875 \nL 28.515625 63.921875 \nL 10.984375 60.40625 \nL 10.984375 69.390625 \nL 28.421875 72.90625 \nL 38.28125 72.90625 \nL 38.28125 8.296875 \nL 54.390625 8.296875 \nL 54.390625 0 \nL 12.40625 0 \nz\n\" id=\"DejaVuSans-49\"/>\n       <path d=\"M 31.78125 66.40625 \nQ 24.171875 66.40625 20.328125 58.90625 \nQ 16.5 51.421875 16.5 36.375 \nQ 16.5 21.390625 20.328125 13.890625 \nQ 24.171875 6.390625 31.78125 6.390625 \nQ 39.453125 6.390625 43.28125 13.890625 \nQ 47.125 21.390625 47.125 36.375 \nQ 47.125 51.421875 43.28125 58.90625 \nQ 39.453125 66.40625 31.78125 66.40625 \nz\nM 31.78125 74.21875 \nQ 44.046875 74.21875 50.515625 64.515625 \nQ 56.984375 54.828125 56.984375 36.375 \nQ 56.984375 17.96875 50.515625 8.265625 \nQ 44.046875 -1.421875 31.78125 -1.421875 \nQ 19.53125 -1.421875 13.0625 8.265625 \nQ 6.59375 17.96875 6.59375 36.375 \nQ 6.59375 54.828125 13.0625 64.515625 \nQ 19.53125 74.21875 31.78125 74.21875 \nz\n\" id=\"DejaVuSans-48\"/>\n      </defs>\n      <g transform=\"translate(7.2 214.823056)scale(0.1 -0.1)\">\n       <use xlink:href=\"#DejaVuSans-49\"/>\n       <use x=\"63.623047\" xlink:href=\"#DejaVuSans-48\"/>\n      </g>\n     </g>\n    </g>\n    <g id=\"ytick_2\">\n     <g id=\"line2d_8\">\n      <g>\n       <use style=\"stroke:#000000;stroke-width:0.8;\" x=\"26.925\" xlink:href=\"#made346e316\" y=\"169.535779\"/>\n      </g>\n     </g>\n     <g id=\"text_2\">\n      <!-- 15 -->\n      <defs>\n       <path d=\"M 10.796875 72.90625 \nL 49.515625 72.90625 \nL 49.515625 64.59375 \nL 19.828125 64.59375 \nL 19.828125 46.734375 \nQ 21.96875 47.46875 24.109375 47.828125 \nQ 26.265625 48.1875 28.421875 48.1875 \nQ 40.625 48.1875 47.75 41.5 \nQ 54.890625 34.8125 54.890625 23.390625 \nQ 54.890625 11.625 47.5625 5.09375 \nQ 40.234375 -1.421875 26.90625 -1.421875 \nQ 22.3125 -1.421875 17.546875 -0.640625 \nQ 12.796875 0.140625 7.71875 1.703125 \nL 7.71875 11.625 \nQ 12.109375 9.234375 16.796875 8.0625 \nQ 21.484375 6.890625 26.703125 6.890625 \nQ 35.15625 6.890625 40.078125 11.328125 \nQ 45.015625 15.765625 45.015625 23.390625 \nQ 45.015625 31 40.078125 35.4375 \nQ 35.15625 39.890625 26.703125 39.890625 \nQ 22.75 39.890625 18.8125 39.015625 \nQ 14.890625 38.140625 10.796875 36.28125 \nz\n\" id=\"DejaVuSans-53\"/>\n      </defs>\n      <g transform=\"translate(7.2 173.334998)scale(0.1 -0.1)\">\n       <use xlink:href=\"#DejaVuSans-49\"/>\n       <use x=\"63.623047\" xlink:href=\"#DejaVuSans-53\"/>\n      </g>\n     </g>\n    </g>\n    <g id=\"ytick_3\">\n     <g id=\"line2d_9\">\n      <g>\n       <use style=\"stroke:#000000;stroke-width:0.8;\" x=\"26.925\" xlink:href=\"#made346e316\" y=\"128.047721\"/>\n      </g>\n     </g>\n     <g id=\"text_3\">\n      <!-- 20 -->\n      <defs>\n       <path d=\"M 19.1875 8.296875 \nL 53.609375 8.296875 \nL 53.609375 0 \nL 7.328125 0 \nL 7.328125 8.296875 \nQ 12.9375 14.109375 22.625 23.890625 \nQ 32.328125 33.6875 34.8125 36.53125 \nQ 39.546875 41.84375 41.421875 45.53125 \nQ 43.3125 49.21875 43.3125 52.78125 \nQ 43.3125 58.59375 39.234375 62.25 \nQ 35.15625 65.921875 28.609375 65.921875 \nQ 23.96875 65.921875 18.8125 64.3125 \nQ 13.671875 62.703125 7.8125 59.421875 \nL 7.8125 69.390625 \nQ 13.765625 71.78125 18.9375 73 \nQ 24.125 74.21875 28.421875 74.21875 \nQ 39.75 74.21875 46.484375 68.546875 \nQ 53.21875 62.890625 53.21875 53.421875 \nQ 53.21875 48.921875 51.53125 44.890625 \nQ 49.859375 40.875 45.40625 35.40625 \nQ 44.1875 33.984375 37.640625 27.21875 \nQ 31.109375 20.453125 19.1875 8.296875 \nz\n\" id=\"DejaVuSans-50\"/>\n      </defs>\n      <g transform=\"translate(7.2 131.84694)scale(0.1 -0.1)\">\n       <use xlink:href=\"#DejaVuSans-50\"/>\n       <use x=\"63.623047\" xlink:href=\"#DejaVuSans-48\"/>\n      </g>\n     </g>\n    </g>\n    <g id=\"ytick_4\">\n     <g id=\"line2d_10\">\n      <g>\n       <use style=\"stroke:#000000;stroke-width:0.8;\" x=\"26.925\" xlink:href=\"#made346e316\" y=\"86.559663\"/>\n      </g>\n     </g>\n     <g id=\"text_4\">\n      <!-- 25 -->\n      <g transform=\"translate(7.2 90.358881)scale(0.1 -0.1)\">\n       <use xlink:href=\"#DejaVuSans-50\"/>\n       <use x=\"63.623047\" xlink:href=\"#DejaVuSans-53\"/>\n      </g>\n     </g>\n    </g>\n    <g id=\"ytick_5\">\n     <g id=\"line2d_11\">\n      <g>\n       <use style=\"stroke:#000000;stroke-width:0.8;\" x=\"26.925\" xlink:href=\"#made346e316\" y=\"45.071604\"/>\n      </g>\n     </g>\n     <g id=\"text_5\">\n      <!-- 30 -->\n      <defs>\n       <path d=\"M 40.578125 39.3125 \nQ 47.65625 37.796875 51.625 33 \nQ 55.609375 28.21875 55.609375 21.1875 \nQ 55.609375 10.40625 48.1875 4.484375 \nQ 40.765625 -1.421875 27.09375 -1.421875 \nQ 22.515625 -1.421875 17.65625 -0.515625 \nQ 12.796875 0.390625 7.625 2.203125 \nL 7.625 11.71875 \nQ 11.71875 9.328125 16.59375 8.109375 \nQ 21.484375 6.890625 26.8125 6.890625 \nQ 36.078125 6.890625 40.9375 10.546875 \nQ 45.796875 14.203125 45.796875 21.1875 \nQ 45.796875 27.640625 41.28125 31.265625 \nQ 36.765625 34.90625 28.71875 34.90625 \nL 20.21875 34.90625 \nL 20.21875 43.015625 \nL 29.109375 43.015625 \nQ 36.375 43.015625 40.234375 45.921875 \nQ 44.09375 48.828125 44.09375 54.296875 \nQ 44.09375 59.90625 40.109375 62.90625 \nQ 36.140625 65.921875 28.71875 65.921875 \nQ 24.65625 65.921875 20.015625 65.03125 \nQ 15.375 64.15625 9.8125 62.3125 \nL 9.8125 71.09375 \nQ 15.4375 72.65625 20.34375 73.4375 \nQ 25.25 74.21875 29.59375 74.21875 \nQ 40.828125 74.21875 47.359375 69.109375 \nQ 53.90625 64.015625 53.90625 55.328125 \nQ 53.90625 49.265625 50.4375 45.09375 \nQ 46.96875 40.921875 40.578125 39.3125 \nz\n\" id=\"DejaVuSans-51\"/>\n      </defs>\n      <g transform=\"translate(7.2 48.870823)scale(0.1 -0.1)\">\n       <use xlink:href=\"#DejaVuSans-51\"/>\n       <use x=\"63.623047\" xlink:href=\"#DejaVuSans-48\"/>\n      </g>\n     </g>\n    </g>\n   </g>\n   <g id=\"line2d_12\">\n    <path clip-path=\"url(#p257b9090a3)\" d=\"M 42.143182 104.283745 \nL 45.217562 178.642383 \nL 48.291942 168.479466 \nL 51.366322 222.075265 \nL 54.440702 123.132137 \nL 57.515083 128.782291 \nL 60.589463 140.697842 \nL 63.663843 148.948146 \nL 66.738223 175.675286 \nL 69.812603 155.254436 \nL 72.886983 170.52444 \nL 75.961364 118.659735 \nL 79.035744 89.707082 \nL 82.110124 130.519669 \nL 85.184504 162.76448 \nL 88.258884 224.600755 \nL 91.333264 117.897986 \nL 94.407645 148.334528 \nL 97.482025 121.945189 \nL 100.556405 132.435459 \nL 103.630785 172.876444 \nL 106.705165 132.393905 \nL 109.779545 182.769774 \nL 112.853926 167.849032 \nL 115.928306 100.351465 \nL 119.002686 64.248435 \nL 122.077066 85.44714 \nL 125.151446 161.056415 \nL 128.225826 148.903874 \nL 131.300207 153.883777 \nL 134.374587 164.458433 \nL 137.448967 151.665417 \nL 140.523347 32.268398 \nL 143.597727 161.997765 \nL 146.672107 164.706647 \nL 149.746488 179.240617 \nL 152.820868 172.97978 \nL 155.895248 102.992425 \nL 158.969628 162.659909 \nL 162.044008 154.130959 \nL 165.118388 171.415328 \nL 168.192769 185.57651 \nL 171.267149 192.693214 \nL 174.341529 132.147225 \nL 177.415909 136.460417 \nL 180.490289 166.985156 \nL 183.564669 159.319486 \nL 186.63905 139.138108 \nL 189.71343 126.876225 \nL 192.78781 158.629261 \nL 195.86219 170.02184 \nL 198.93657 119.099081 \nL 202.01095 160.421011 \nL 205.085331 144.840789 \nL 208.159711 104.067567 \nL 211.234091 123.966452 \nL 214.308471 141.319633 \nL 217.382851 112.559667 \nL 220.457231 143.46392 \nL 223.531612 155.793119 \nL 226.605992 92.593529 \nL 229.680372 139.455309 \nL 232.754752 143.867036 \nL 235.829132 184.002847 \nL 238.903512 195.119107 \nL 241.977893 85.943585 \nL 245.052273 119.758437 \nL 248.126653 168.157999 \nL 251.201033 198.235929 \nL 254.275413 143.629236 \nL 257.349793 155.500892 \nL 260.424174 163.719374 \nL 263.498554 215.857294 \nL 266.572934 187.191103 \nL 269.647314 177.204674 \nL 272.721694 144.016895 \nL 275.796074 220.062388 \nL 278.870455 92.035679 \nL 281.944835 149.102569 \nL 285.019215 171.172802 \nL 288.093595 69.401345 \nL 291.167975 229.874489 \nL 294.242355 80.253229 \nL 297.316736 141.66359 \nL 300.391116 76.194527 \nL 303.465496 179.011489 \nL 306.539876 142.516301 \nL 309.614256 158.945677 \nL 312.688636 58.239558 \nL 315.763017 150.138934 \nL 318.837397 187.056156 \nL 321.911777 143.096588 \nL 324.986157 166.347797 \nL 328.060537 134.914713 \nL 331.134917 187.765769 \nL 334.209298 182.704613 \nL 337.283678 32.201761 \nL 340.358058 184.29351 \nL 343.432438 170.308757 \nL 346.506818 68.870908 \n\" style=\"fill:none;stroke:#1f77b4;stroke-linecap:square;stroke-width:1.5;\"/>\n   </g>\n   <g id=\"patch_3\">\n    <path d=\"M 26.925 239.758125 \nL 26.925 22.318125 \n\" style=\"fill:none;stroke:#000000;stroke-linecap:square;stroke-linejoin:miter;stroke-width:0.8;\"/>\n   </g>\n   <g id=\"patch_4\">\n    <path d=\"M 361.725 239.758125 \nL 361.725 22.318125 \n\" style=\"fill:none;stroke:#000000;stroke-linecap:square;stroke-linejoin:miter;stroke-width:0.8;\"/>\n   </g>\n   <g id=\"patch_5\">\n    <path d=\"M 26.925 239.758125 \nL 361.725 239.758125 \n\" style=\"fill:none;stroke:#000000;stroke-linecap:square;stroke-linejoin:miter;stroke-width:0.8;\"/>\n   </g>\n   <g id=\"patch_6\">\n    <path d=\"M 26.925 22.318125 \nL 361.725 22.318125 \n\" style=\"fill:none;stroke:#000000;stroke-linecap:square;stroke-linejoin:miter;stroke-width:0.8;\"/>\n   </g>\n   <g id=\"text_6\">\n    <!-- (cents/kWh) Net-Metered Profit for N=100 Prosumers -->\n    <defs>\n     <path d=\"M 31 75.875 \nQ 24.46875 64.65625 21.28125 53.65625 \nQ 18.109375 42.671875 18.109375 31.390625 \nQ 18.109375 20.125 21.3125 9.0625 \nQ 24.515625 -2 31 -13.1875 \nL 23.1875 -13.1875 \nQ 15.875 -1.703125 12.234375 9.375 \nQ 8.59375 20.453125 8.59375 31.390625 \nQ 8.59375 42.28125 12.203125 53.3125 \nQ 15.828125 64.359375 23.1875 75.875 \nz\n\" id=\"DejaVuSans-40\"/>\n     <path d=\"M 48.78125 52.59375 \nL 48.78125 44.1875 \nQ 44.96875 46.296875 41.140625 47.34375 \nQ 37.3125 48.390625 33.40625 48.390625 \nQ 24.65625 48.390625 19.8125 42.84375 \nQ 14.984375 37.3125 14.984375 27.296875 \nQ 14.984375 17.28125 19.8125 11.734375 \nQ 24.65625 6.203125 33.40625 6.203125 \nQ 37.3125 6.203125 41.140625 7.25 \nQ 44.96875 8.296875 48.78125 10.40625 \nL 48.78125 2.09375 \nQ 45.015625 0.34375 40.984375 -0.53125 \nQ 36.96875 -1.421875 32.421875 -1.421875 \nQ 20.0625 -1.421875 12.78125 6.34375 \nQ 5.515625 14.109375 5.515625 27.296875 \nQ 5.515625 40.671875 12.859375 48.328125 \nQ 20.21875 56 33.015625 56 \nQ 37.15625 56 41.109375 55.140625 \nQ 45.0625 54.296875 48.78125 52.59375 \nz\n\" id=\"DejaVuSans-99\"/>\n     <path d=\"M 56.203125 29.59375 \nL 56.203125 25.203125 \nL 14.890625 25.203125 \nQ 15.484375 15.921875 20.484375 11.0625 \nQ 25.484375 6.203125 34.421875 6.203125 \nQ 39.59375 6.203125 44.453125 7.46875 \nQ 49.3125 8.734375 54.109375 11.28125 \nL 54.109375 2.78125 \nQ 49.265625 0.734375 44.1875 -0.34375 \nQ 39.109375 -1.421875 33.890625 -1.421875 \nQ 20.796875 -1.421875 13.15625 6.1875 \nQ 5.515625 13.8125 5.515625 26.8125 \nQ 5.515625 40.234375 12.765625 48.109375 \nQ 20.015625 56 32.328125 56 \nQ 43.359375 56 49.78125 48.890625 \nQ 56.203125 41.796875 56.203125 29.59375 \nz\nM 47.21875 32.234375 \nQ 47.125 39.59375 43.09375 43.984375 \nQ 39.0625 48.390625 32.421875 48.390625 \nQ 24.90625 48.390625 20.390625 44.140625 \nQ 15.875 39.890625 15.1875 32.171875 \nz\n\" id=\"DejaVuSans-101\"/>\n     <path d=\"M 54.890625 33.015625 \nL 54.890625 0 \nL 45.90625 0 \nL 45.90625 32.71875 \nQ 45.90625 40.484375 42.875 44.328125 \nQ 39.84375 48.1875 33.796875 48.1875 \nQ 26.515625 48.1875 22.3125 43.546875 \nQ 18.109375 38.921875 18.109375 30.90625 \nL 18.109375 0 \nL 9.078125 0 \nL 9.078125 54.6875 \nL 18.109375 54.6875 \nL 18.109375 46.1875 \nQ 21.34375 51.125 25.703125 53.5625 \nQ 30.078125 56 35.796875 56 \nQ 45.21875 56 50.046875 50.171875 \nQ 54.890625 44.34375 54.890625 33.015625 \nz\n\" id=\"DejaVuSans-110\"/>\n     <path d=\"M 18.3125 70.21875 \nL 18.3125 54.6875 \nL 36.8125 54.6875 \nL 36.8125 47.703125 \nL 18.3125 47.703125 \nL 18.3125 18.015625 \nQ 18.3125 11.328125 20.140625 9.421875 \nQ 21.96875 7.515625 27.59375 7.515625 \nL 36.8125 7.515625 \nL 36.8125 0 \nL 27.59375 0 \nQ 17.1875 0 13.234375 3.875 \nQ 9.28125 7.765625 9.28125 18.015625 \nL 9.28125 47.703125 \nL 2.6875 47.703125 \nL 2.6875 54.6875 \nL 9.28125 54.6875 \nL 9.28125 70.21875 \nz\n\" id=\"DejaVuSans-116\"/>\n     <path d=\"M 44.28125 53.078125 \nL 44.28125 44.578125 \nQ 40.484375 46.53125 36.375 47.5 \nQ 32.28125 48.484375 27.875 48.484375 \nQ 21.1875 48.484375 17.84375 46.4375 \nQ 14.5 44.390625 14.5 40.28125 \nQ 14.5 37.15625 16.890625 35.375 \nQ 19.28125 33.59375 26.515625 31.984375 \nL 29.59375 31.296875 \nQ 39.15625 29.25 43.1875 25.515625 \nQ 47.21875 21.78125 47.21875 15.09375 \nQ 47.21875 7.46875 41.1875 3.015625 \nQ 35.15625 -1.421875 24.609375 -1.421875 \nQ 20.21875 -1.421875 15.453125 -0.5625 \nQ 10.6875 0.296875 5.421875 2 \nL 5.421875 11.28125 \nQ 10.40625 8.6875 15.234375 7.390625 \nQ 20.0625 6.109375 24.8125 6.109375 \nQ 31.15625 6.109375 34.5625 8.28125 \nQ 37.984375 10.453125 37.984375 14.40625 \nQ 37.984375 18.0625 35.515625 20.015625 \nQ 33.0625 21.96875 24.703125 23.78125 \nL 21.578125 24.515625 \nQ 13.234375 26.265625 9.515625 29.90625 \nQ 5.8125 33.546875 5.8125 39.890625 \nQ 5.8125 47.609375 11.28125 51.796875 \nQ 16.75 56 26.8125 56 \nQ 31.78125 56 36.171875 55.265625 \nQ 40.578125 54.546875 44.28125 53.078125 \nz\n\" id=\"DejaVuSans-115\"/>\n     <path d=\"M 25.390625 72.90625 \nL 33.6875 72.90625 \nL 8.296875 -9.28125 \nL 0 -9.28125 \nz\n\" id=\"DejaVuSans-47\"/>\n     <path d=\"M 9.078125 75.984375 \nL 18.109375 75.984375 \nL 18.109375 31.109375 \nL 44.921875 54.6875 \nL 56.390625 54.6875 \nL 27.390625 29.109375 \nL 57.625 0 \nL 45.90625 0 \nL 18.109375 26.703125 \nL 18.109375 0 \nL 9.078125 0 \nz\n\" id=\"DejaVuSans-107\"/>\n     <path d=\"M 3.328125 72.90625 \nL 13.28125 72.90625 \nL 28.609375 11.28125 \nL 43.890625 72.90625 \nL 54.984375 72.90625 \nL 70.3125 11.28125 \nL 85.59375 72.90625 \nL 95.609375 72.90625 \nL 77.296875 0 \nL 64.890625 0 \nL 49.515625 63.28125 \nL 33.984375 0 \nL 21.578125 0 \nz\n\" id=\"DejaVuSans-87\"/>\n     <path d=\"M 54.890625 33.015625 \nL 54.890625 0 \nL 45.90625 0 \nL 45.90625 32.71875 \nQ 45.90625 40.484375 42.875 44.328125 \nQ 39.84375 48.1875 33.796875 48.1875 \nQ 26.515625 48.1875 22.3125 43.546875 \nQ 18.109375 38.921875 18.109375 30.90625 \nL 18.109375 0 \nL 9.078125 0 \nL 9.078125 75.984375 \nL 18.109375 75.984375 \nL 18.109375 46.1875 \nQ 21.34375 51.125 25.703125 53.5625 \nQ 30.078125 56 35.796875 56 \nQ 45.21875 56 50.046875 50.171875 \nQ 54.890625 44.34375 54.890625 33.015625 \nz\n\" id=\"DejaVuSans-104\"/>\n     <path d=\"M 8.015625 75.875 \nL 15.828125 75.875 \nQ 23.140625 64.359375 26.78125 53.3125 \nQ 30.421875 42.28125 30.421875 31.390625 \nQ 30.421875 20.453125 26.78125 9.375 \nQ 23.140625 -1.703125 15.828125 -13.1875 \nL 8.015625 -13.1875 \nQ 14.5 -2 17.703125 9.0625 \nQ 20.90625 20.125 20.90625 31.390625 \nQ 20.90625 42.671875 17.703125 53.65625 \nQ 14.5 64.65625 8.015625 75.875 \nz\n\" id=\"DejaVuSans-41\"/>\n     <path id=\"DejaVuSans-32\"/>\n     <path d=\"M 9.8125 72.90625 \nL 23.09375 72.90625 \nL 55.421875 11.921875 \nL 55.421875 72.90625 \nL 64.984375 72.90625 \nL 64.984375 0 \nL 51.703125 0 \nL 19.390625 60.984375 \nL 19.390625 0 \nL 9.8125 0 \nz\n\" id=\"DejaVuSans-78\"/>\n     <path d=\"M 4.890625 31.390625 \nL 31.203125 31.390625 \nL 31.203125 23.390625 \nL 4.890625 23.390625 \nz\n\" id=\"DejaVuSans-45\"/>\n     <path d=\"M 9.8125 72.90625 \nL 24.515625 72.90625 \nL 43.109375 23.296875 \nL 61.8125 72.90625 \nL 76.515625 72.90625 \nL 76.515625 0 \nL 66.890625 0 \nL 66.890625 64.015625 \nL 48.09375 14.015625 \nL 38.1875 14.015625 \nL 19.390625 64.015625 \nL 19.390625 0 \nL 9.8125 0 \nz\n\" id=\"DejaVuSans-77\"/>\n     <path d=\"M 41.109375 46.296875 \nQ 39.59375 47.171875 37.8125 47.578125 \nQ 36.03125 48 33.890625 48 \nQ 26.265625 48 22.1875 43.046875 \nQ 18.109375 38.09375 18.109375 28.8125 \nL 18.109375 0 \nL 9.078125 0 \nL 9.078125 54.6875 \nL 18.109375 54.6875 \nL 18.109375 46.1875 \nQ 20.953125 51.171875 25.484375 53.578125 \nQ 30.03125 56 36.53125 56 \nQ 37.453125 56 38.578125 55.875 \nQ 39.703125 55.765625 41.0625 55.515625 \nz\n\" id=\"DejaVuSans-114\"/>\n     <path d=\"M 45.40625 46.390625 \nL 45.40625 75.984375 \nL 54.390625 75.984375 \nL 54.390625 0 \nL 45.40625 0 \nL 45.40625 8.203125 \nQ 42.578125 3.328125 38.25 0.953125 \nQ 33.9375 -1.421875 27.875 -1.421875 \nQ 17.96875 -1.421875 11.734375 6.484375 \nQ 5.515625 14.40625 5.515625 27.296875 \nQ 5.515625 40.1875 11.734375 48.09375 \nQ 17.96875 56 27.875 56 \nQ 33.9375 56 38.25 53.625 \nQ 42.578125 51.265625 45.40625 46.390625 \nz\nM 14.796875 27.296875 \nQ 14.796875 17.390625 18.875 11.75 \nQ 22.953125 6.109375 30.078125 6.109375 \nQ 37.203125 6.109375 41.296875 11.75 \nQ 45.40625 17.390625 45.40625 27.296875 \nQ 45.40625 37.203125 41.296875 42.84375 \nQ 37.203125 48.484375 30.078125 48.484375 \nQ 22.953125 48.484375 18.875 42.84375 \nQ 14.796875 37.203125 14.796875 27.296875 \nz\n\" id=\"DejaVuSans-100\"/>\n     <path d=\"M 19.671875 64.796875 \nL 19.671875 37.40625 \nL 32.078125 37.40625 \nQ 38.96875 37.40625 42.71875 40.96875 \nQ 46.484375 44.53125 46.484375 51.125 \nQ 46.484375 57.671875 42.71875 61.234375 \nQ 38.96875 64.796875 32.078125 64.796875 \nz\nM 9.8125 72.90625 \nL 32.078125 72.90625 \nQ 44.34375 72.90625 50.609375 67.359375 \nQ 56.890625 61.8125 56.890625 51.125 \nQ 56.890625 40.328125 50.609375 34.8125 \nQ 44.34375 29.296875 32.078125 29.296875 \nL 19.671875 29.296875 \nL 19.671875 0 \nL 9.8125 0 \nz\n\" id=\"DejaVuSans-80\"/>\n     <path d=\"M 30.609375 48.390625 \nQ 23.390625 48.390625 19.1875 42.75 \nQ 14.984375 37.109375 14.984375 27.296875 \nQ 14.984375 17.484375 19.15625 11.84375 \nQ 23.34375 6.203125 30.609375 6.203125 \nQ 37.796875 6.203125 41.984375 11.859375 \nQ 46.1875 17.53125 46.1875 27.296875 \nQ 46.1875 37.015625 41.984375 42.703125 \nQ 37.796875 48.390625 30.609375 48.390625 \nz\nM 30.609375 56 \nQ 42.328125 56 49.015625 48.375 \nQ 55.71875 40.765625 55.71875 27.296875 \nQ 55.71875 13.875 49.015625 6.21875 \nQ 42.328125 -1.421875 30.609375 -1.421875 \nQ 18.84375 -1.421875 12.171875 6.21875 \nQ 5.515625 13.875 5.515625 27.296875 \nQ 5.515625 40.765625 12.171875 48.375 \nQ 18.84375 56 30.609375 56 \nz\n\" id=\"DejaVuSans-111\"/>\n     <path d=\"M 37.109375 75.984375 \nL 37.109375 68.5 \nL 28.515625 68.5 \nQ 23.6875 68.5 21.796875 66.546875 \nQ 19.921875 64.59375 19.921875 59.515625 \nL 19.921875 54.6875 \nL 34.71875 54.6875 \nL 34.71875 47.703125 \nL 19.921875 47.703125 \nL 19.921875 0 \nL 10.890625 0 \nL 10.890625 47.703125 \nL 2.296875 47.703125 \nL 2.296875 54.6875 \nL 10.890625 54.6875 \nL 10.890625 58.5 \nQ 10.890625 67.625 15.140625 71.796875 \nQ 19.390625 75.984375 28.609375 75.984375 \nz\n\" id=\"DejaVuSans-102\"/>\n     <path d=\"M 9.421875 54.6875 \nL 18.40625 54.6875 \nL 18.40625 0 \nL 9.421875 0 \nz\nM 9.421875 75.984375 \nL 18.40625 75.984375 \nL 18.40625 64.59375 \nL 9.421875 64.59375 \nz\n\" id=\"DejaVuSans-105\"/>\n     <path d=\"M 10.59375 45.40625 \nL 73.1875 45.40625 \nL 73.1875 37.203125 \nL 10.59375 37.203125 \nz\nM 10.59375 25.484375 \nL 73.1875 25.484375 \nL 73.1875 17.1875 \nL 10.59375 17.1875 \nz\n\" id=\"DejaVuSans-61\"/>\n     <path d=\"M 8.5 21.578125 \nL 8.5 54.6875 \nL 17.484375 54.6875 \nL 17.484375 21.921875 \nQ 17.484375 14.15625 20.5 10.265625 \nQ 23.53125 6.390625 29.59375 6.390625 \nQ 36.859375 6.390625 41.078125 11.03125 \nQ 45.3125 15.671875 45.3125 23.6875 \nL 45.3125 54.6875 \nL 54.296875 54.6875 \nL 54.296875 0 \nL 45.3125 0 \nL 45.3125 8.40625 \nQ 42.046875 3.421875 37.71875 1 \nQ 33.40625 -1.421875 27.6875 -1.421875 \nQ 18.265625 -1.421875 13.375 4.4375 \nQ 8.5 10.296875 8.5 21.578125 \nz\nM 31.109375 56 \nz\n\" id=\"DejaVuSans-117\"/>\n     <path d=\"M 52 44.1875 \nQ 55.375 50.25 60.0625 53.125 \nQ 64.75 56 71.09375 56 \nQ 79.640625 56 84.28125 50.015625 \nQ 88.921875 44.046875 88.921875 33.015625 \nL 88.921875 0 \nL 79.890625 0 \nL 79.890625 32.71875 \nQ 79.890625 40.578125 77.09375 44.375 \nQ 74.3125 48.1875 68.609375 48.1875 \nQ 61.625 48.1875 57.5625 43.546875 \nQ 53.515625 38.921875 53.515625 30.90625 \nL 53.515625 0 \nL 44.484375 0 \nL 44.484375 32.71875 \nQ 44.484375 40.625 41.703125 44.40625 \nQ 38.921875 48.1875 33.109375 48.1875 \nQ 26.21875 48.1875 22.15625 43.53125 \nQ 18.109375 38.875 18.109375 30.90625 \nL 18.109375 0 \nL 9.078125 0 \nL 9.078125 54.6875 \nL 18.109375 54.6875 \nL 18.109375 46.1875 \nQ 21.1875 51.21875 25.484375 53.609375 \nQ 29.78125 56 35.6875 56 \nQ 41.65625 56 45.828125 52.96875 \nQ 50 49.953125 52 44.1875 \nz\n\" id=\"DejaVuSans-109\"/>\n    </defs>\n    <g transform=\"translate(34.725938 16.318125)scale(0.12 -0.12)\">\n     <use xlink:href=\"#DejaVuSans-40\"/>\n     <use x=\"39.013672\" xlink:href=\"#DejaVuSans-99\"/>\n     <use x=\"93.994141\" xlink:href=\"#DejaVuSans-101\"/>\n     <use x=\"155.517578\" xlink:href=\"#DejaVuSans-110\"/>\n     <use x=\"218.896484\" xlink:href=\"#DejaVuSans-116\"/>\n     <use x=\"258.105469\" xlink:href=\"#DejaVuSans-115\"/>\n     <use x=\"310.205078\" xlink:href=\"#DejaVuSans-47\"/>\n     <use x=\"343.896484\" xlink:href=\"#DejaVuSans-107\"/>\n     <use x=\"401.806641\" xlink:href=\"#DejaVuSans-87\"/>\n     <use x=\"500.683594\" xlink:href=\"#DejaVuSans-104\"/>\n     <use x=\"564.0625\" xlink:href=\"#DejaVuSans-41\"/>\n     <use x=\"603.076172\" xlink:href=\"#DejaVuSans-32\"/>\n     <use x=\"634.863281\" xlink:href=\"#DejaVuSans-78\"/>\n     <use x=\"709.667969\" xlink:href=\"#DejaVuSans-101\"/>\n     <use x=\"771.191406\" xlink:href=\"#DejaVuSans-116\"/>\n     <use x=\"810.400391\" xlink:href=\"#DejaVuSans-45\"/>\n     <use x=\"846.484375\" xlink:href=\"#DejaVuSans-77\"/>\n     <use x=\"932.763672\" xlink:href=\"#DejaVuSans-101\"/>\n     <use x=\"994.287109\" xlink:href=\"#DejaVuSans-116\"/>\n     <use x=\"1033.496094\" xlink:href=\"#DejaVuSans-101\"/>\n     <use x=\"1095.019531\" xlink:href=\"#DejaVuSans-114\"/>\n     <use x=\"1133.882812\" xlink:href=\"#DejaVuSans-101\"/>\n     <use x=\"1195.40625\" xlink:href=\"#DejaVuSans-100\"/>\n     <use x=\"1258.882812\" xlink:href=\"#DejaVuSans-32\"/>\n     <use x=\"1290.669922\" xlink:href=\"#DejaVuSans-80\"/>\n     <use x=\"1349.222656\" xlink:href=\"#DejaVuSans-114\"/>\n     <use x=\"1388.085938\" xlink:href=\"#DejaVuSans-111\"/>\n     <use x=\"1449.267578\" xlink:href=\"#DejaVuSans-102\"/>\n     <use x=\"1484.472656\" xlink:href=\"#DejaVuSans-105\"/>\n     <use x=\"1512.255859\" xlink:href=\"#DejaVuSans-116\"/>\n     <use x=\"1551.464844\" xlink:href=\"#DejaVuSans-32\"/>\n     <use x=\"1583.251953\" xlink:href=\"#DejaVuSans-102\"/>\n     <use x=\"1618.457031\" xlink:href=\"#DejaVuSans-111\"/>\n     <use x=\"1679.638672\" xlink:href=\"#DejaVuSans-114\"/>\n     <use x=\"1720.751953\" xlink:href=\"#DejaVuSans-32\"/>\n     <use x=\"1752.539062\" xlink:href=\"#DejaVuSans-78\"/>\n     <use x=\"1827.34375\" xlink:href=\"#DejaVuSans-61\"/>\n     <use x=\"1911.132812\" xlink:href=\"#DejaVuSans-49\"/>\n     <use x=\"1974.755859\" xlink:href=\"#DejaVuSans-48\"/>\n     <use x=\"2038.378906\" xlink:href=\"#DejaVuSans-48\"/>\n     <use x=\"2102.001953\" xlink:href=\"#DejaVuSans-32\"/>\n     <use x=\"2133.789062\" xlink:href=\"#DejaVuSans-80\"/>\n     <use x=\"2192.341797\" xlink:href=\"#DejaVuSans-114\"/>\n     <use x=\"2231.205078\" xlink:href=\"#DejaVuSans-111\"/>\n     <use x=\"2292.386719\" xlink:href=\"#DejaVuSans-115\"/>\n     <use x=\"2344.486328\" xlink:href=\"#DejaVuSans-117\"/>\n     <use x=\"2407.865234\" xlink:href=\"#DejaVuSans-109\"/>\n     <use x=\"2505.277344\" xlink:href=\"#DejaVuSans-101\"/>\n     <use x=\"2566.800781\" xlink:href=\"#DejaVuSans-114\"/>\n     <use x=\"2607.914062\" xlink:href=\"#DejaVuSans-115\"/>\n    </g>\n   </g>\n   <g id=\"legend_1\">\n    <g id=\"patch_7\">\n     <path d=\"M 350.725 35.318125 \nL 354.725 35.318125 \nQ 356.725 35.318125 356.725 33.318125 \nL 356.725 29.318125 \nQ 356.725 27.318125 354.725 27.318125 \nL 350.725 27.318125 \nQ 348.725 27.318125 348.725 29.318125 \nL 348.725 33.318125 \nQ 348.725 35.318125 350.725 35.318125 \nz\n\" style=\"fill:#ffffff;opacity:0.8;stroke:#cccccc;stroke-linejoin:miter;\"/>\n    </g>\n   </g>\n  </g>\n </g>\n <defs>\n  <clipPath id=\"p257b9090a3\">\n   <rect height=\"217.44\" width=\"334.8\" x=\"26.925\" y=\"22.318125\"/>\n  </clipPath>\n </defs>\n</svg>\n",
      "image/png": "[encoded data removed]"
     },
     "metadata": {}
    }
   ],
   "source": [
    "#show pricing for all prosumers\n",
    "get_curve_accross_prosumers('profit').mean().plot(x='time',title=f\"(cents/kWh) Net-Metered Profit for N={len(prosumers)} Prosumers\")\n",
    "plt.legend('')\n",
    "plt.show()"
   ]
  },
  {
   "source": [
    "We will also modify the Prosumer object to include the "
   ],
   "cell_type": "markdown",
   "metadata": {}
  },
  {
   "cell_type": "code",
   "execution_count": 10,
   "metadata": {},
   "outputs": [],
   "source": [
    "def get_totals_accross_prosumers(type_name):\n",
    "    prosumers_arr = []\n",
    "    for prosumer in prosumers:\n",
    "        prosumers_arr.append(\n",
    "            pd.DataFrame(list(zip(prosumer.data['time'],prosumer.data[type_name])),columns=['time',f'Prosumer:{prosumer.id}']))\n",
    "    return reduce(lambda left,right: pd.merge(left,right,on=['time'],how='outer'), prosumers_arr)\n",
    "\n"
   ]
  },
  {
   "cell_type": "code",
   "execution_count": 11,
   "metadata": {},
   "outputs": [
    {
     "output_type": "error",
     "ename": "NameError",
     "evalue": "name 'prosumers' is not defined",
     "traceback": [
      "\u001b[0;31m---------------------------------------------------------------------------\u001b[0m",
      "\u001b[0;31mNameError\u001b[0m                                 Traceback (most recent call last)",
      "\u001b[0;32m<ipython-input-11-ff6679707385>\u001b[0m in \u001b[0;36m<module>\u001b[0;34m()\u001b[0m\n\u001b[1;32m      3\u001b[0m \u001b[0mtotal_nrg_meter_profit\u001b[0m \u001b[0;34m=\u001b[0m\u001b[0;36m0\u001b[0m\u001b[0;34m\u001b[0m\u001b[0m\n\u001b[1;32m      4\u001b[0m \u001b[0mtotal_net_enrgy\u001b[0m\u001b[0;34m=\u001b[0m\u001b[0;36m0\u001b[0m\u001b[0;34m\u001b[0m\u001b[0m\n\u001b[0;32m----> 5\u001b[0;31m \u001b[0;32mfor\u001b[0m \u001b[0mprosumer\u001b[0m \u001b[0;32min\u001b[0m \u001b[0mprosumers\u001b[0m\u001b[0;34m:\u001b[0m\u001b[0;34m\u001b[0m\u001b[0m\n\u001b[0m\u001b[1;32m      6\u001b[0m     sheet.append(\n\u001b[1;32m      7\u001b[0m         {\n",
      "\u001b[0;31mNameError\u001b[0m: name 'prosumers' is not defined"
     ]
    }
   ],
   "source": [
    "sheet = []\n",
    "total_net_meter_profit = 0\n",
    "total_nrg_meter_profit =0\n",
    "total_net_enrgy=0\n",
    "for prosumer in prosumers:\n",
    "    sheet.append(\n",
    "        {\n",
    "            'Prosumer':prosumer['id'],\n",
    "            'Total Net-Metering Profit ($)':prosumer['data']['net_meter'].sum(),\n",
    "            'Total NRG X-Change Profit ($)':prosumer['data']['nrg_meter'].sum(),\n",
    "            'Total Net Energy (kWh)':prosumer['data']['net_energy'].sum()\n",
    "        }\n",
    "    )\n",
    "    total_net_meter_profit += prosumer['data']['net_meter'].sum()\n",
    "    total_nrg_meter_profit += prosumer['data']['nrg_meter'].sum()\n",
    "    total_net_enrgy += prosumer['data']['net_energy'].sum()\n",
    "    prosumer['data'].plot(x='time',y=['net_meter'],title=f\"FL. Synthesized Dataset - Prosumer:{prosumer['id']}\")\n",
    "\n",
    "print(tabulate(sheet, headers = 'keys', tablefmt = 'github',showindex=False)) \n",
    "print(tabulate([{'Prosumer':'All',\n",
    "            'Total Net-Metering Profit ($)':total_net_meter_profit,\n",
    "            'Total NRG X-Change Profit ($)':total_nrg_meter_profit,\n",
    "            'Total Net Energy (kWh)':total_net_enrgy}],headers = 'keys', tablefmt = 'github',showindex=False)) "
   ]
  },
  {
   "cell_type": "code",
   "execution_count": null,
   "metadata": {},
   "outputs": [],
   "source": [
    "def get_net_meter_payment(price,net_energy):\n",
    "    # convert to dollars from cents\n",
    "    return net_energy*(0.01*price)\n"
   ]
  },
  {
   "cell_type": "code",
   "execution_count": null,
   "metadata": {},
   "outputs": [],
   "source": [
    "\n",
    "def get_nrg_xchange_payment(price,net_energy,total_net_energy,a,n):\n",
    "    tx = total_net_energy\n",
    "    payments = []\n",
    "    for i in range(len(net_energy)):\n",
    "        x = net_energy[i]\n",
    "        q = (0.01*price[i])\n",
    "        try:\n",
    "            ans = (pow(x,n)*q)/math.exp(pow(tx,2)/a)\n",
    "        except OverflowError:\n",
    "            ans = float('inf')\n",
    "        payments.append(ans)\n",
    "    return payments\n",
    "\n",
    "# Create the net metering profit from net energy    \n",
    "total_net_energy = sum([p['data']['net_energy'].sum() for p in prosumers])\n",
    "for prosumer in prosumers:\n",
    "    df_prosumer = prosumer['data']    \n",
    "    nrg = get_nrg_xchange_payment(net_energy=df_prosumer['net_energy'],price=df_prosumer['price'],total_net_energy=total_net_energy,a=10000000,n=1)\n",
    "    time_n_nrg = list(zip(df_prosumer['time'],nrg))\n",
    "    df_nrg = pd.DataFrame(time_n_nrg,columns=['time','nrg_meter'])\n",
    "    prosumer['data'] = df_prosumer.merge(df_nrg,on='time')\n"
   ]
  },
  {
   "cell_type": "code",
   "execution_count": null,
   "metadata": {
    "tags": []
   },
   "outputs": [],
   "source": [
    "#plot the prosumers\n",
    "for prosumer in prosumers:\n",
    "    print(f\"\\nProsumer:{prosumer['id']}\")\n",
    "    print(tabulate(prosumer['data'], headers = 'keys', tablefmt = 'github',showindex=False))\n",
    "    prosumer['data'].plot(x='time',y=['demand','generation','net_energy'],title=f\"FL. Synthesized Dataset - Prosumer:{prosumer['id']}\")\n",
    "    "
   ]
  },
  {
   "source": [
    "# Step 4 : Analyze Results for Net-Metering Profit\n",
    "\n",
    "Determine the results of the prosumers "
   ],
   "cell_type": "markdown",
   "metadata": {}
  },
  {
   "cell_type": "code",
   "execution_count": 12,
   "metadata": {},
   "outputs": [
    {
     "output_type": "error",
     "ename": "NameError",
     "evalue": "name 'prosumers' is not defined",
     "traceback": [
      "\u001b[0;31m---------------------------------------------------------------------------\u001b[0m",
      "\u001b[0;31mNameError\u001b[0m                                 Traceback (most recent call last)",
      "\u001b[0;32m<ipython-input-12-ff6679707385>\u001b[0m in \u001b[0;36m<module>\u001b[0;34m()\u001b[0m\n\u001b[1;32m      3\u001b[0m \u001b[0mtotal_nrg_meter_profit\u001b[0m \u001b[0;34m=\u001b[0m\u001b[0;36m0\u001b[0m\u001b[0;34m\u001b[0m\u001b[0m\n\u001b[1;32m      4\u001b[0m \u001b[0mtotal_net_enrgy\u001b[0m\u001b[0;34m=\u001b[0m\u001b[0;36m0\u001b[0m\u001b[0;34m\u001b[0m\u001b[0m\n\u001b[0;32m----> 5\u001b[0;31m \u001b[0;32mfor\u001b[0m \u001b[0mprosumer\u001b[0m \u001b[0;32min\u001b[0m \u001b[0mprosumers\u001b[0m\u001b[0;34m:\u001b[0m\u001b[0;34m\u001b[0m\u001b[0m\n\u001b[0m\u001b[1;32m      6\u001b[0m     sheet.append(\n\u001b[1;32m      7\u001b[0m         {\n",
      "\u001b[0;31mNameError\u001b[0m: name 'prosumers' is not defined"
     ]
    }
   ],
   "source": [
    "sheet = []\n",
    "total_net_meter_profit = 0\n",
    "total_nrg_meter_profit =0\n",
    "total_net_enrgy=0\n",
    "for prosumer in prosumers:\n",
    "    sheet.append(\n",
    "        {\n",
    "            'Prosumer':prosumer['id'],\n",
    "            'Total Net-Metering Profit ($)':prosumer['data']['net_meter'].sum(),\n",
    "            'Total NRG X-Change Profit ($)':prosumer['data']['nrg_meter'].sum(),\n",
    "            'Total Net Energy (kWh)':prosumer['data']['net_energy'].sum()\n",
    "        }\n",
    "    )\n",
    "    total_net_meter_profit += prosumer['data']['net_meter'].sum()\n",
    "    total_nrg_meter_profit += prosumer['data']['nrg_meter'].sum()\n",
    "    total_net_enrgy += prosumer['data']['net_energy'].sum()\n",
    "    prosumer['data'].plot(x='time',y=['net_meter'],title=f\"FL. Synthesized Dataset - Prosumer:{prosumer['id']}\")\n",
    "\n",
    "print(tabulate(sheet, headers = 'keys', tablefmt = 'github',showindex=False)) \n",
    "print(tabulate([{'Prosumer':'All',\n",
    "            'Total Net-Metering Profit ($)':total_net_meter_profit,\n",
    "            'Total NRG X-Change Profit ($)':total_nrg_meter_profit,\n",
    "            'Total Net Energy (kWh)':total_net_enrgy}],headers = 'keys', tablefmt = 'github',showindex=False)) \n"
   ]
  },
  {
   "source": [
    "# Run Experiment for a Large Network of Prosumers"
   ],
   "cell_type": "markdown",
   "metadata": {}
  },
  {
   "cell_type": "code",
   "execution_count": null,
   "metadata": {},
   "outputs": [],
   "source": [
    "# Generate a collection of prosumers\n",
    "N = 100 # Number of prosumers to create\n",
    "\n",
    "# set some constants for the build\n",
    "init = [\n",
    "        {\n",
    "            'type':'generation',\n",
    "            'mean':1200,\n",
    "            'std': 1200 * 0.2, #20% of mean,\n",
    "            'ulim':1200, # upper limit (capacity),\n",
    "            'llim':0 # lower limit \n",
    "        },\n",
    "        {   \n",
    "            'type':'demand',\n",
    "            'mean':1100,\n",
    "            'std': 1100 * 0.2, #20% of mean\n",
    "            'ulim':1100 * 2, # upper limit (max load),\n",
    "            'llim':1100 * 0.1 # lower limit (constant load) \n",
    "        } \n",
    "    ]"
   ]
  },
  {
   "source": [
    "## NRG-X-Change requires a Scaler Adjustment for Larger Network"
   ],
   "cell_type": "markdown",
   "metadata": {}
  },
  {
   "cell_type": "code",
   "execution_count": null,
   "metadata": {},
   "outputs": [],
   "source": [
    "prosumers = []\n",
    "for n in range(N):\n",
    "    pro_datasets = []\n",
    "    # Create a price column\n",
    "    pro_datasets.append(df[['time','price']])\n",
    "    # Create the generation and demand columns    \n",
    "    for conf in init:\n",
    "        curve = df[conf['type']]\n",
    "        c = [max(conf['llim'],min(conf['ulim'],\n",
    "        random.normal(loc=conf['mean'],scale=conf['std'])*x)) for x in curve]\n",
    "        df_t = pd.DataFrame(list(zip(df['time'],c)),columns=['time',conf['type']])\n",
    "        pro_datasets.append(df_t)\n",
    "     # merge the datasets\n",
    "    df_p = reduce(lambda  left,right: pd.merge(left,right,on=['time'],how='outer'), pro_datasets)\n",
    "\n",
    "    # Add net energy from demand and generation cols\n",
    "    net_energy = df_p['demand'] - df_p['generation']\n",
    "    net_energy_cap = [max(x,0) for x in net_energy]\n",
    "    time_n_net_energy = list(zip(df['time'],net_energy_cap))\n",
    "    df_net = pd.DataFrame(time_n_net_energy,columns=['time','net_energy'])\n",
    "    df_pn = df_p.merge(df_net,on='time')\n",
    "\n",
    "    # Create the net metering profit from net energy\n",
    "    net_meter = get_net_meter_payment(net_energy=df_pn['net_energy'],price=df_pn['price'])\n",
    "    time_n_net_meter = list(zip(df['time'],net_meter))\n",
    "    df_net_met = pd.DataFrame(time_n_net_meter,columns=['time','net_meter'])\n",
    "    df_m = df_pn.merge(df_net_met,on='time')\n",
    "\n",
    "    # add prosumer to group\n",
    "    prosumers.append({\"id\":n+1,\"data\":df_m})\n",
    "\n",
    "# Create the net metering profit from net energy    \n",
    "total_net_energy = sum([p['data']['net_energy'].sum() for p in prosumers])\n",
    "for prosumer in prosumers:\n",
    "    df_prosumer = prosumer['data']    \n",
    "    nrg = get_nrg_xchange_payment(net_energy=df_prosumer['net_energy'],price=df_prosumer['price'],total_net_energy=total_net_energy,a=100000000000,n=1) #as the number of participants grows the scale value has to increase\n",
    "    time_n_nrg = list(zip(df_prosumer['time'],nrg))\n",
    "    df_nrg = pd.DataFrame(time_n_nrg,columns=['time','nrg_meter'])\n",
    "    prosumer['data'] = df_prosumer.merge(df_nrg,on='time')"
   ]
  },
  {
   "cell_type": "code",
   "execution_count": null,
   "metadata": {
    "tags": []
   },
   "outputs": [],
   "source": [
    "\n",
    "#for prosumer in prosumers:\n",
    " #   print(f\"\\nProsumer:{prosumer['id']}\")\n",
    "  #  print(tabulate(prosumer['data'], headers = 'keys', tablefmt = 'github',showindex=False))\n",
    "    "
   ]
  },
  {
   "cell_type": "code",
   "execution_count": null,
   "metadata": {},
   "outputs": [],
   "source": [
    "sheet = []\n",
    "total_net_meter_profit = 0\n",
    "for prosumer in prosumers:\n",
    "    sheet.append(\n",
    "        {\n",
    "            'Prosumer':prosumer['id'],\n",
    "            'Total Net-Metering Profit ($)':prosumer['data']['net_meter'].sum(),\n",
    "            'Total NRG X-Change Profit ($)':prosumer['data']['nrg_meter'].sum(),\n",
    "            'Total Net Energy (kWh)':prosumer['data']['net_energy'].sum()\n",
    "        }\n",
    "    )\n",
    "    total_net_meter_profit += prosumer['data']['net_meter'].sum()\n",
    "    total_nrg_meter_profit += prosumer['data']['nrg_meter'].sum()\n",
    "    total_net_enrgy += prosumer['data']['net_energy'].sum()\n",
    "    \n",
    "print(tabulate(sheet, headers = 'keys', tablefmt = 'github',showindex=False)) \n",
    "print(tabulate(\n",
    "        [{   'Prosumer':'All',\n",
    "            'Total Net-Metering Profit ($)':total_net_meter_profit,\n",
    "            'Total NRG X-Change Profit ($)':total_nrg_meter_profit,\n",
    "            'Total Net Energy (kWh)':total_net_enrgy\n",
    "        }],headers = 'keys', tablefmt = 'github',showindex=False)) "
   ]
  },
  {
   "source": [
    "# NRG-X-Change is Not Effective as Linear Function, Why?\n",
    "\n",
    "\n",
    "1. The simulation should adjust the *a* scalar and reduce the network from N to just the ones who contributed, allowing for a redistribution of profit at higher levels for just those who contributed instead accross the whole of N.\n",
    "\n"
   ],
   "cell_type": "markdown",
   "metadata": {}
  },
  {
   "source": [
    "1. Validate the dataset\n",
    "2. Use 12 monhts \n",
    "4. Multiple years?\n",
    "3. Remove restriction for he generation how much better can i have?\n",
    "3. Fix graphs with details\n",
    "5. Setup 100 prosumers as Shapley coalition\n",
    "    - what would be the payment\n",
    "6. THe function needs to be modified to include conusmption? but how?\n",
    "- The max payout is when the total productiona and consumption are equal..\n",
    "- the consumption of the prosumers and hte net metering is seprate. "
   ],
   "cell_type": "markdown",
   "metadata": {}
  }
 ]
}