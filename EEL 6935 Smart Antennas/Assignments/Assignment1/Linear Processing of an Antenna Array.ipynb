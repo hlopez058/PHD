{
 "cells": [
  {
   "cell_type": "markdown",
   "metadata": {},
   "source": [
    "# Linear Processing of an Antenna Array\n",
    "EEL 6935 - SPRING.2018\n",
    "Hector Lopez 1-13-2018"
   ]
  },
  {
   "cell_type": "markdown",
   "metadata": {},
   "source": [
    "# Description\n",
    "\n",
    "Consider the most trivial of all linear array processors that has beamformer weight values `w_i = 1 for every i = 1,2...M ` assume that a unit-value signal `(m(t)=1)` on a carier frequency  `fc` is arriving at your antenna array with a direction of arrival `theta`. Assume inter-element spacing equal to half the carrier wavelenth , `d=lambda_c/2`. \n",
    "\n",
    "Plot the array output `|y|^2` in plain scale and in dB log-scale as a function of `theta` for `M=3,5,10` (this is known as a power pattern or power beam pattern). \n",
    "\n",
    "What do you observe? Discuss your findings. Would an array with fixed unit weights like that (plain adder) be useful in some way?\n",
    "\n"
   ]
  },
  {
   "cell_type": "code",
   "execution_count": 183,
   "metadata": {},
   "outputs": [
    {
     "name": "stderr",
     "output_type": "stream",
     "text": [
      "C:\\Program Files\\Anaconda3\\lib\\site-packages\\ipykernel_launcher.py:58: RuntimeWarning: divide by zero encountered in log10\n"
     ]
    },
    {
     "data": {
      "image/png": "[encoded data removed]",
      "text/plain": [
       "<matplotlib.figure.Figure at 0xb4d74558550>"
      ]
     },
     "metadata": {},
     "output_type": "display_data"
    },
    {
     "name": "stderr",
     "output_type": "stream",
     "text": [
      "C:\\Program Files\\Anaconda3\\lib\\site-packages\\matplotlib\\ticker.py:2039: UserWarning: Data has no positive values, and therefore cannot be log-scaled.\n",
      "  \"Data has no positive values, and therefore cannot be \"\n"
     ]
    },
    {
     "data": {
      "image/png": "[encoded data removed]",
      "text/plain": [
       "<matplotlib.figure.Figure at 0xb4d744e7470>"
      ]
     },
     "metadata": {},
     "output_type": "display_data"
    }
   ],
   "source": [
    "import scipy.integrate as integrate\n",
    "from numpy import *\n",
    "\n",
    "\n",
    "# create a function that will process different number of elements and return with a P.vs.theta curve\n",
    "def Processor(M):\n",
    "    #number of array elements 'M'\n",
    "    elements = arange(1,M);\n",
    "\n",
    "    #weights as unit vector\n",
    "    weights = ones(M,dtype=complex);\n",
    "\n",
    "    #unit value signal on carrier frequency fc\n",
    "    fc=2*10^9;\n",
    "\n",
    "    # create a time vector  with a max time T (seconds)\n",
    "    max_time = 1;\n",
    "    time= arange(0,max_time);\n",
    "    \n",
    "    #initialize input signal vector for all elements over time\n",
    "    x = zeros((M,max_time),dtype=complex);\n",
    "    xx = zeros((M),dtype=complex);\n",
    "\n",
    "    Y = zeros((max_time),dtype=complex);\n",
    "    \n",
    "    #arriving signal as unit-value at each element over time\n",
    "    m = ones((M,max_time),dtype=complex);\n",
    "\n",
    "    #Array Response Vector\n",
    "    speed_of_light = 3*10^8; #m/s\n",
    "    lambda_c = speed_of_light/fc;\n",
    "    spacing = lambda_c / 2;\n",
    "    S = zeros(M,dtype=complex);\n",
    "\n",
    "    #create a range of theta for plotting\n",
    "    theta_min = 0;\n",
    "    theta_max = 180;\n",
    "    theta = arange(theta_min,theta_max,1);\n",
    "    \n",
    "    #power beam pattern\n",
    "    P = zeros(theta_max);\n",
    "\n",
    "    for th in nditer(theta.T):\n",
    "        #Build an array response vector for this instance of theta\n",
    "        for d in nditer(elements.T):\n",
    "            S[d]= exp(-1j*2*pi*(((d-1)*spacing)/lambda_c))*sin(th*(pi/180));\n",
    "        #Step through the time window\n",
    "        for t in nditer(time.T):\n",
    "            #Step through input vector x, signal vector m, and array response vector S\n",
    "            for i in nditer(elements.T):\n",
    "                x[i,t] = m[i,t]*exp(1j*2*pi*fc*t)*S[i];\n",
    "                #Multiply input vector value by the corresponding \n",
    "                # weight vector value's conjugate\n",
    "                xx[i] =  conjugate(weights[i])*x[i,t];\n",
    "            #Sum the processed input vector, xx together into a single output\n",
    "            Y[t] = sum(xx);\n",
    "        #P[th]=trapz(square(absolute(Y)));\n",
    "        P[th]=10*log10(square(absolute(Y)) / square(M));\n",
    "        #P[th]=square(absolute(Y)) / square(M);\n",
    "    return P;\n",
    "\n",
    "\n",
    "\n",
    "#Create a plot to show the output with respect to theta\n",
    "import matplotlib.pyplot as plt\n",
    "plt.plot(theta, Processor(3), 'r-',Processor(5), 'b-',Processor(10), 'g-');\n",
    "plt.ylabel('Power Spectral Density');\n",
    "plt.yscale('linear');\n",
    "plt.title('linear');\n",
    "plt.grid();\n",
    "plt.magnitude_spectrum(s, Fs=Fs, scale='dB')\n",
    "plt.xlabel('theta (degrees)');\n",
    "plt.show()\n",
    "\n",
    "plt.plot(theta, Processor(3), 'r-',Processor(5), 'b-',Processor(10), 'g-');\n",
    "plt.ylabel('Power Spectral Density');\n",
    "plt.yscale('log');\n",
    "plt.title('log');\n",
    "plt.grid();\n",
    "plt.xlabel('theta (degrees)');\n",
    "plt.show()\n",
    "\n"
   ]
  },
  {
   "cell_type": "markdown",
   "metadata": {},
   "source": [
    "## Observation\n",
    "\n",
    "1. The greater the number of antenna elements in the array means that the output signal will have a porportional amount of energy. This makes sense because the arriving signals are summed together to create the output signal.\n",
    "\n",
    "2. The angle of arrival , theta, is at its peak when it is at 90 degrees. It would make sense that the most power would come if all the signals where hitting each element perpendicular to the linear alignment of the array. This means that the 90 deg, is the perpendicular angle while 0 and 180 degrees would be a signal arriving at the north side of the array directly hitting the first element, and 180 would be the opposite where the signal is coming directly from the south side hitting the last element in the array.\n",
    "\n",
    "3. The scaling of power in the signal based on number of elements increases in a nonlinear way. From 5 to 10 antenna elements increases the output signal by orders of magnitude. Doubling from 10 to 20 may have the same exponential increase in the output signals power. I would assume that by increasing the power in the signal the input signals are amplified. The amplification can allow for an easier removal of any additive noises and allow for more information to be transmitted reliably. \n",
    "\n",
    "\n",
    "## Would an array with fixed unit weights be useful?\n",
    "\n",
    "This type of configuration may be useful in testing linear array elements. Confirming the overall response has not diminished could verify that the antennas are performing optimally. Another use would be to map the surrounding area around the array. In a perfect world all the arriving signals would be un-impeded but in the real world there could be terrain or obstacles that would change the strength of each arriving signal at different angles. A unit weight vector could be useful in detecting these obstacles. And by adjusting the weights these a \"clean\" response could be acheived to mimic the graphs published above.\n",
    "\n",
    "\n"
   ]
  }
 ],
 "metadata": {
  "kernelspec": {
   "display_name": "Python 3",
   "language": "python",
   "name": "python3"
  },
  "language_info": {
   "codemirror_mode": {
    "name": "ipython",
    "version": 3
   },
   "file_extension": ".py",
   "mimetype": "text/x-python",
   "name": "python",
   "nbconvert_exporter": "python",
   "pygments_lexer": "ipython3",
   "version": "3.6.1"
  }
 },
 "nbformat": 4,
 "nbformat_minor": 2
}
