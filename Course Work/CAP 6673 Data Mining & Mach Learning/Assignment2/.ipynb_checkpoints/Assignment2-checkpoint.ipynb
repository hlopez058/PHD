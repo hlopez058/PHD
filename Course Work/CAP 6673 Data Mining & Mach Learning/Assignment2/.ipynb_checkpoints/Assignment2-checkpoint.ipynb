{
 "cells": [
  {
   "cell_type": "code",
   "execution_count": 78,
   "metadata": {},
   "outputs": [],
   "source": [
    "import pandas as pd\n",
    "\n",
    "classifyDataset('fit');\n",
    "classifyDataset('test');\n",
    "\n",
    "def classifyDataSet (filename):\n",
    "    df=pd.read_csv(filename+\"_data.csv\",header=None)\n",
    "\n",
    "    def converter(x):\n",
    "        if x >= 2 :\n",
    "            return \"fp\"\n",
    "        else :\n",
    "            return \"nfp\"\n",
    "\n",
    "    df1 = df[8].apply(converter)\n",
    "    df[8] = df1[1];\n",
    "    df.to_csv(filename+'_data_classified.arff', sep=',',header=None,index=False)"
   ]
  },
  {
   "cell_type": "code",
   "execution_count": null,
   "metadata": {
    "collapsed": true
   },
   "outputs": [],
   "source": []
  }
 ],
 "metadata": {
  "kernelspec": {
   "display_name": "Python 3",
   "language": "python",
   "name": "python3"
  },
  "language_info": {
   "codemirror_mode": {
    "name": "ipython",
    "version": 3
   },
   "file_extension": ".py",
   "mimetype": "text/x-python",
   "name": "python",
   "nbconvert_exporter": "python",
   "pygments_lexer": "ipython3",
   "version": "3.6.2"
  }
 },
 "nbformat": 4,
 "nbformat_minor": 2
}
