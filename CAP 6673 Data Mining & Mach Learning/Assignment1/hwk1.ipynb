{
 "cells": [
  {
   "cell_type": "markdown",
   "metadata": {},
   "source": [
    "# I.A Engineering the input: Preparing the datasets"
   ]
  },
  {
   "cell_type": "markdown",
   "metadata": {},
   "source": [
    "The fit.dat file is a space seperated file. The .ARFF format we require for Weka takes the data as a comma-seperated file format. With the python code below we can convert the file quickly with minimal human error. The fit.dat file goes from the space-seperated data set to a comma-seperated data set.\n",
    "\n",
    "Space Seperated (fit.dat):\n",
    "\n",
    "    22 85 203 174 9 0 362 40 0\n",
    "    21 87 186 165 5 0 379 32 0\n",
    "    30 107 405 306 25 0 756 99 0\n",
    "    ...\n",
    "\n",
    "\n",
    "Comma Seperated (fit.csv):\n",
    "\n",
    "    22,85,203,174,9,0,362,40,0\n",
    "    21,87,186,165,5,0,379,32,0\n",
    "    30,107,405,306,25,0,756,99,0\n",
    "    ...\n",
    "\n",
    "Then we can add the attribute labels and comments to create the .arff file for weka to interpret the classes. The \n",
    "\n",
    "   \n",
    "    % ADA Software Fault Training Data\n",
    "    ...\n",
    "    @relation prediction_data_frame \n",
    "\n",
    "    @attribute NUMUORS real \n",
    "    @attribute NUMUANDS real \n",
    "    @attribute TOTOTORS real \n",
    "    @attribute TOTOPANDS real \n",
    "    @attribute VG real\n",
    "    ...\n",
    "\n",
    "\n",
    "    % ADA Software Fault Test Data\n",
    "    ...\n",
    "    @relation prediction_data_frame \n",
    "\n",
    "    @attribute NUMUORS real \n",
    "    @attribute NUMUANDS real \n",
    "    @attribute TOTOTORS real \n",
    "    @attribute TOTOPANDS real \n",
    "    @attribute VG real\n",
    "    ...\n",
    "\n",
    "   "
   ]
  },
  {
   "cell_type": "markdown",
   "metadata": {},
   "source": [
    "## Preprocessing Data for Prediction"
   ]
  },
  {
   "cell_type": "code",
   "execution_count": 8,
   "metadata": {},
   "outputs": [
    {
     "name": "stdout",
     "output_type": "stream",
     "text": [
      "\n",
      "% ADA Software Fault Training Data\n",
      "% Author: Hector Lopez\n",
      "% 9 attributes\n",
      "% 188 instances\n",
      "% fit.arff \n",
      "\n",
      "\n",
      "@relation prediction_data_frame \n",
      "\n",
      "@attribute NUMUORS real \n",
      "@attribute NUMUANDS real \n",
      "@attribute TOTOTORS real \n",
      "@attribute TOTOPANDS real \n",
      "@attribute VG real \n",
      "@attribute NLOGIC real \n",
      "@attribute LOC real \n",
      "@attribute ELOC real \n",
      "@attribute FAULTS real \n",
      "\n",
      "@data \n",
      "22,85,203,174,9,0,362,40,0\n",
      "21,87,186,165,5,0,379,32,0\n",
      "30,107,405,306,25,0,756,99,0\n",
      "6,5,19,6,2,0,160,9,0\n",
      "21,47,168,148,7,0,352,29,0\n",
      "28,38,16\n",
      "...\n",
      "\n",
      "% ADA Software Fault Test Data\n",
      "% Author: Hector Lopez\n",
      "% 9 attributes\n",
      "% 94 instances\n",
      "% test.arff \n",
      "\n",
      "\n",
      "@relation prediction_data_frame \n",
      "\n",
      "@attribute NUMUORS real \n",
      "@attribute NUMUANDS real \n",
      "@attribute TOTOTORS real \n",
      "@attribute TOTOPANDS real \n",
      "@attribute VG real \n",
      "@attribute NLOGIC real \n",
      "@attribute LOC real \n",
      "@attribute ELOC real \n",
      "@attribute FAULTS real \n",
      "\n",
      "@data \n",
      "6,12,127,45,10,0,641,55,0\n",
      "5,5,41,12,1,0,407,17,0\n",
      "23,28,95,66,4,2,241,20,0\n",
      "5,5,35,20,1,0,254,14,0\n",
      "6,10,43,26,1,0,264,17,0\n",
      "3,6,25,6,1,0,279,13,0\n",
      "\n",
      "...\n"
     ]
    }
   ],
   "source": [
    "import csv\n",
    "\n",
    "#Convert data files into csv .arff file\n",
    "ConvertSpaceToCSV(\"fit.dat\",\"fit_pred.arff\")\n",
    "ConvertTabToCSV(\"test.dat\",\"test_pred.arff\")\n",
    "\n",
    "fit_comments = \"\"\"\n",
    "% ADA Software Fault Training Data\n",
    "% Author: Hector Lopez\n",
    "% 9 attributes\n",
    "% 188 instances\n",
    "% fit.arff \n",
    "\"\"\"\n",
    "\n",
    "test_comments = \"\"\"\n",
    "% ADA Software Fault Test Data\n",
    "% Author: Hector Lopez\n",
    "% 9 attributes\n",
    "% 94 instances\n",
    "% test.arff \n",
    "\"\"\"\n",
    "\n",
    "attributes =\"\"\"\n",
    "\n",
    "@relation prediction_data_frame \n",
    "\n",
    "@attribute NUMUORS real \n",
    "@attribute NUMUANDS real \n",
    "@attribute TOTOTORS real \n",
    "@attribute TOTOPANDS real \n",
    "@attribute VG real \n",
    "@attribute NLOGIC real \n",
    "@attribute LOC real \n",
    "@attribute ELOC real \n",
    "@attribute FAULTS real \n",
    "\n",
    "@data \n",
    "\"\"\"\n",
    "\n",
    "#Add comments and weka attribs to the csv file and save as arf\n",
    "AddWekaFeatures(\"fit_pred.arff\",fit_comments + attributes);\n",
    "AddWekaFeatures(\"test_pred.arff\",test_comments + attributes);\n",
    "\n",
    "\n",
    "print(open(\"fit_pred.arff\",\"r\",encoding=\"UTF8\").read(500))\n",
    "print(\"...\")\n",
    "\n",
    "print(open(\"test_pred.arff\",\"r\",encoding=\"UTF8\").read(500))\n",
    "print(\"...\")\n"
   ]
  },
  {
   "cell_type": "markdown",
   "metadata": {},
   "source": [
    "\n",
    "## Preprocessing Data for Classification"
   ]
  },
  {
   "cell_type": "code",
   "execution_count": 9,
   "metadata": {},
   "outputs": [
    {
     "name": "stdout",
     "output_type": "stream",
     "text": [
      "\n",
      "% ADA Software Fault Training Data\n",
      "% Author: Hector Lopez\n",
      "% 9 attributes\n",
      "% 188 instances\n",
      "% fit.arff \n",
      "\n",
      "\n",
      "@relation classification_data_frame \n",
      "\n",
      "@attribute class {fp,nfp}\n",
      "@attribute NUMUORS real \n",
      "@attribute NUMUANDS real \n",
      "@attribute TOTOTORS real \n",
      "@attribute TOTOPANDS real \n",
      "@attribute VG real \n",
      "@attribute NLOGIC real \n",
      "@attribute LOC real \n",
      "@attribute ELOC real \n",
      "@attribute FAULTS real \n",
      "\n",
      "\n",
      "@data \n",
      "nfp,22,85,203,174,9,0,362,40,0\n",
      "nfp,21,87,186,165,5,0,379,32,0\n",
      "nfp,30,107,405,306,25,0,756,99,0\n",
      "nfp,6,5,19,6,\n",
      "...\n",
      "\n",
      "% ADA Software Fault Test Data\n",
      "% Author: Hector Lopez\n",
      "% 9 attributes\n",
      "% 94 instances\n",
      "% test.arff \n",
      "\n",
      "\n",
      "@relation classification_data_frame \n",
      "\n",
      "@attribute class {fp,nfp}\n",
      "@attribute NUMUORS real \n",
      "@attribute NUMUANDS real \n",
      "@attribute TOTOTORS real \n",
      "@attribute TOTOPANDS real \n",
      "@attribute VG real \n",
      "@attribute NLOGIC real \n",
      "@attribute LOC real \n",
      "@attribute ELOC real \n",
      "@attribute FAULTS real \n",
      "\n",
      "\n",
      "@data \n",
      "nfp,6,12,127,45,10,0,641,55,0\n",
      "nfp,5,5,41,12,1,0,407,17,0\n",
      "nfp,23,28,95,66,4,2,241,20,0\n",
      "nfp,5,5,35,20,1,0,254,14,0\n",
      "...\n"
     ]
    }
   ],
   "source": [
    "#Convert data files into csv .arff file\n",
    "ConvertSpaceToCSV(\"fit.dat\",\"fit_class.csv\")\n",
    "ConvertTabToCSV(\"test.dat\",\"test_class.csv\")\n",
    "\n",
    "AddClassFeature(\"fit_class.csv\",\"fit_class.arff\")\n",
    "AddClassFeature(\"test_class.csv\",\"test_class.arff\")\n",
    "                \n",
    "fit_comments = \"\"\"\n",
    "% ADA Software Fault Training Data\n",
    "% Author: Hector Lopez\n",
    "% 9 attributes\n",
    "% 188 instances\n",
    "% fit.arff \n",
    "\"\"\"\n",
    "\n",
    "test_comments = \"\"\"\n",
    "% ADA Software Fault Test Data\n",
    "% Author: Hector Lopez\n",
    "% 9 attributes\n",
    "% 94 instances\n",
    "% test.arff \n",
    "\"\"\"\n",
    "\n",
    "attributes =\"\"\"\n",
    "\n",
    "@relation classification_data_frame \n",
    "\n",
    "@attribute class {fp,nfp}\n",
    "@attribute NUMUORS real \n",
    "@attribute NUMUANDS real \n",
    "@attribute TOTOTORS real \n",
    "@attribute TOTOPANDS real \n",
    "@attribute VG real \n",
    "@attribute NLOGIC real \n",
    "@attribute LOC real \n",
    "@attribute ELOC real \n",
    "@attribute FAULTS real \n",
    "\n",
    "\n",
    "@data \n",
    "\"\"\"\n",
    "\n",
    "\n",
    "#Add comments and weka attribs to the csv file and save as arf\n",
    "AddWekaFeatures(\"fit_class.arff\",fit_comments + attributes);\n",
    "AddWekaFeatures(\"test_class.arff\",test_comments + attributes);\n",
    "\n",
    "print(open(\"fit_class.arff\",\"r\",encoding=\"UTF8\").read(500))\n",
    "print(\"...\")\n",
    "\n",
    "print(open(\"test_class.arff\",\"r\",encoding=\"UTF8\").read(500))\n",
    "print(\"...\")\n"
   ]
  },
  {
   "cell_type": "markdown",
   "metadata": {},
   "source": [
    "# Support Functions"
   ]
  },
  {
   "cell_type": "code",
   "execution_count": 10,
   "metadata": {
    "collapsed": true
   },
   "outputs": [],
   "source": [
    "def ConvertSpaceToCSV(source_file,dest_file):\n",
    "    with open(source_file, \"r\") as infile:\n",
    "        reader = csv.reader(infile, delimiter=' ')\n",
    "        with open(dest_file, \"w\", newline='') as outfile:\n",
    "            writer = csv.writer(outfile, delimiter = ',')\n",
    "            for row in reader:\n",
    "                writer.writerow(row)\n",
    "\n",
    "def ConvertTabToCSV(source_file,dest_file):\n",
    "    with open(source_file, \"r\") as infile:\n",
    "        reader = csv.reader(infile, delimiter='\\t')\n",
    "        with open(dest_file, \"w\", newline='') as outfile:\n",
    "            writer = csv.writer(outfile, delimiter = ',')\n",
    "            for row in reader:\n",
    "                writer.writerow(row)\n",
    "\n",
    "def AddWekaFeatures(file,header):\n",
    "    infile = open(file, \"r\");\n",
    "    intext = header + infile.read();\n",
    "    outfile = open(file, \"w\");\n",
    "    outfile.write(intext);\n",
    "    \n",
    "\n",
    "#Add A nfp(non-fault-prone)/fp(fault-prone) class to each row\n",
    "def AddClassFeature(source_file,dest_file) :\n",
    "    with open(source_file, \"r\") as infile:\n",
    "            reader = csv.reader(infile, delimiter=' ')\n",
    "            with open(dest_file, \"w\", newline='') as outfile:\n",
    "                writer = csv.writer(outfile, delimiter = ',')\n",
    "                for row in reader:\n",
    "                    vals=row[0].split(\",\")\n",
    "                    idx=len(vals)-1\n",
    "                    if(int(vals[idx])>=2):\n",
    "                        vals.insert(0,\"fp\")\n",
    "                    else:\n",
    "                        vals.insert(0,\"nfp\")\n",
    "                    writer.writerow(vals)"
   ]
  },
  {
   "cell_type": "markdown",
   "metadata": {},
   "source": [
    "# I.B Modeling assignment: Prediction"
   ]
  },
  {
   "cell_type": "markdown",
   "metadata": {},
   "source": [
    "Gra[ the outptus from weka"
   ]
  },
  {
   "cell_type": "code",
   "execution_count": 11,
   "metadata": {},
   "outputs": [
    {
     "data": {
      "image/png": "[encoded data removed]",
      "text/plain": [
       "<matplotlib.figure.Figure at 0x2b93d298518>"
      ]
     },
     "metadata": {},
     "output_type": "display_data"
    },
    {
     "data": {
      "image/png": "[encoded data removed]",
      "text/plain": [
       "<matplotlib.figure.Figure at 0x2b93dbb47f0>"
      ]
     },
     "metadata": {},
     "output_type": "display_data"
    },
    {
     "data": {
      "image/png": "[encoded data removed]",
      "text/plain": [
       "<matplotlib.figure.Figure at 0x2b93d027198>"
      ]
     },
     "metadata": {},
     "output_type": "display_data"
    },
    {
     "data": {
      "image/png": "[encoded data removed]",
      "text/plain": [
       "<matplotlib.figure.Figure at 0x2b93db05470>"
      ]
     },
     "metadata": {},
     "output_type": "display_data"
    }
   ],
   "source": [
    "import matplotlib.pyplot as plt\n",
    "import numpy as np\n",
    "\n",
    "pred_files = ['LM_GRDY_TestData_PredOutput.csv',\n",
    "              'LM_M5_TestData_PredOutput.csv',\n",
    "              'LM_None_TestData_PredOutput.csv',\n",
    "              'DescStmp_TestData_PredOutput.csv'\n",
    "             ]\n",
    "\n",
    "for f in pred_files :\n",
    "    actuals = []\n",
    "    predicted =[]\n",
    "    with open(f, \"r\") as infile:\n",
    "            reader = csv.reader(infile, delimiter=' ')\n",
    "            for row in reader:\n",
    "                    vals=row[0].split(\",\")\n",
    "                    if(vals[1]==\"actual\"):\n",
    "                        continue\n",
    "                    else:\n",
    "                        actuals.append(float(vals[2]))\n",
    "                        predicted.append(float(vals[3]))\n",
    "    t = np.arange(1, 1, len(actuals))\n",
    "    plt.plot(actuals,'r--',predicted,'b--')\n",
    "    plt.title(f)\n",
    "    plt.show()\n"
   ]
  }
 ],
 "metadata": {
  "kernelspec": {
   "display_name": "Python 3",
   "language": "python",
   "name": "python3"
  },
  "language_info": {
   "codemirror_mode": {
    "name": "ipython",
    "version": 3
   },
   "file_extension": ".py",
   "mimetype": "text/x-python",
   "name": "python",
   "nbconvert_exporter": "python",
   "pygments_lexer": "ipython3",
   "version": "3.6.1"
  }
 },
 "nbformat": 4,
 "nbformat_minor": 2
}
